{
 "cells": [
  {
   "cell_type": "markdown",
   "id": "fded9f8a",
   "metadata": {},
   "source": [
    "Import libraries"
   ]
  },
  {
   "cell_type": "code",
   "execution_count": 1,
   "id": "e20d4fbf",
   "metadata": {},
   "outputs": [],
   "source": [
    "import numpy as np\n",
    "import pandas as pd\n",
    "import matplotlib.pyplot as plt\n",
    "import seaborn as sns\n",
    "import statsmodels.api as sm\n",
    "from statsmodels.formula.api import ols\n",
    "import scipy.stats as stats"
   ]
  },
  {
   "cell_type": "code",
   "execution_count": 2,
   "id": "81985a58",
   "metadata": {
    "scrolled": false
   },
   "outputs": [
    {
     "data": {
      "text/html": [
       "<div>\n",
       "<style scoped>\n",
       "    .dataframe tbody tr th:only-of-type {\n",
       "        vertical-align: middle;\n",
       "    }\n",
       "\n",
       "    .dataframe tbody tr th {\n",
       "        vertical-align: top;\n",
       "    }\n",
       "\n",
       "    .dataframe thead th {\n",
       "        text-align: right;\n",
       "    }\n",
       "</style>\n",
       "<table border=\"1\" class=\"dataframe\">\n",
       "  <thead>\n",
       "    <tr style=\"text-align: right;\">\n",
       "      <th></th>\n",
       "      <th>sessionId</th>\n",
       "      <th>kwhTotal</th>\n",
       "      <th>dollars</th>\n",
       "      <th>created</th>\n",
       "      <th>ended</th>\n",
       "      <th>startTime</th>\n",
       "      <th>endTime</th>\n",
       "      <th>chargeTimeHrs</th>\n",
       "      <th>weekday</th>\n",
       "      <th>platform</th>\n",
       "      <th>...</th>\n",
       "      <th>managerVehicle</th>\n",
       "      <th>facilityType</th>\n",
       "      <th>Mon</th>\n",
       "      <th>Tues</th>\n",
       "      <th>Wed</th>\n",
       "      <th>Thurs</th>\n",
       "      <th>Fri</th>\n",
       "      <th>Sat</th>\n",
       "      <th>Sun</th>\n",
       "      <th>reportedZip</th>\n",
       "    </tr>\n",
       "  </thead>\n",
       "  <tbody>\n",
       "    <tr>\n",
       "      <th>0</th>\n",
       "      <td>1366563</td>\n",
       "      <td>7.78</td>\n",
       "      <td>0.00</td>\n",
       "      <td>0014-11-18 15:40:26</td>\n",
       "      <td>0014-11-18 17:11:04</td>\n",
       "      <td>15</td>\n",
       "      <td>17</td>\n",
       "      <td>1.510556</td>\n",
       "      <td>Tue</td>\n",
       "      <td>android</td>\n",
       "      <td>...</td>\n",
       "      <td>0</td>\n",
       "      <td>3</td>\n",
       "      <td>0</td>\n",
       "      <td>1</td>\n",
       "      <td>0</td>\n",
       "      <td>0</td>\n",
       "      <td>0</td>\n",
       "      <td>0</td>\n",
       "      <td>0</td>\n",
       "      <td>0</td>\n",
       "    </tr>\n",
       "    <tr>\n",
       "      <th>1</th>\n",
       "      <td>3075723</td>\n",
       "      <td>9.74</td>\n",
       "      <td>0.00</td>\n",
       "      <td>0014-11-19 17:40:26</td>\n",
       "      <td>0014-11-19 19:51:04</td>\n",
       "      <td>17</td>\n",
       "      <td>19</td>\n",
       "      <td>2.177222</td>\n",
       "      <td>Wed</td>\n",
       "      <td>android</td>\n",
       "      <td>...</td>\n",
       "      <td>0</td>\n",
       "      <td>3</td>\n",
       "      <td>0</td>\n",
       "      <td>0</td>\n",
       "      <td>1</td>\n",
       "      <td>0</td>\n",
       "      <td>0</td>\n",
       "      <td>0</td>\n",
       "      <td>0</td>\n",
       "      <td>0</td>\n",
       "    </tr>\n",
       "    <tr>\n",
       "      <th>2</th>\n",
       "      <td>4228788</td>\n",
       "      <td>6.76</td>\n",
       "      <td>0.58</td>\n",
       "      <td>0014-11-21 12:05:46</td>\n",
       "      <td>0014-11-21 16:46:04</td>\n",
       "      <td>12</td>\n",
       "      <td>16</td>\n",
       "      <td>4.671667</td>\n",
       "      <td>Fri</td>\n",
       "      <td>android</td>\n",
       "      <td>...</td>\n",
       "      <td>0</td>\n",
       "      <td>3</td>\n",
       "      <td>0</td>\n",
       "      <td>0</td>\n",
       "      <td>0</td>\n",
       "      <td>0</td>\n",
       "      <td>1</td>\n",
       "      <td>0</td>\n",
       "      <td>0</td>\n",
       "      <td>0</td>\n",
       "    </tr>\n",
       "    <tr>\n",
       "      <th>3</th>\n",
       "      <td>3173284</td>\n",
       "      <td>6.17</td>\n",
       "      <td>0.00</td>\n",
       "      <td>0014-12-03 19:16:12</td>\n",
       "      <td>0014-12-03 21:02:18</td>\n",
       "      <td>19</td>\n",
       "      <td>21</td>\n",
       "      <td>1.768333</td>\n",
       "      <td>Wed</td>\n",
       "      <td>android</td>\n",
       "      <td>...</td>\n",
       "      <td>0</td>\n",
       "      <td>3</td>\n",
       "      <td>0</td>\n",
       "      <td>0</td>\n",
       "      <td>1</td>\n",
       "      <td>0</td>\n",
       "      <td>0</td>\n",
       "      <td>0</td>\n",
       "      <td>0</td>\n",
       "      <td>0</td>\n",
       "    </tr>\n",
       "    <tr>\n",
       "      <th>4</th>\n",
       "      <td>3266500</td>\n",
       "      <td>0.93</td>\n",
       "      <td>0.00</td>\n",
       "      <td>0014-12-11 20:56:11</td>\n",
       "      <td>0014-12-11 21:14:06</td>\n",
       "      <td>20</td>\n",
       "      <td>21</td>\n",
       "      <td>0.298611</td>\n",
       "      <td>Thu</td>\n",
       "      <td>android</td>\n",
       "      <td>...</td>\n",
       "      <td>0</td>\n",
       "      <td>3</td>\n",
       "      <td>0</td>\n",
       "      <td>0</td>\n",
       "      <td>0</td>\n",
       "      <td>1</td>\n",
       "      <td>0</td>\n",
       "      <td>0</td>\n",
       "      <td>0</td>\n",
       "      <td>0</td>\n",
       "    </tr>\n",
       "    <tr>\n",
       "      <th>...</th>\n",
       "      <td>...</td>\n",
       "      <td>...</td>\n",
       "      <td>...</td>\n",
       "      <td>...</td>\n",
       "      <td>...</td>\n",
       "      <td>...</td>\n",
       "      <td>...</td>\n",
       "      <td>...</td>\n",
       "      <td>...</td>\n",
       "      <td>...</td>\n",
       "      <td>...</td>\n",
       "      <td>...</td>\n",
       "      <td>...</td>\n",
       "      <td>...</td>\n",
       "      <td>...</td>\n",
       "      <td>...</td>\n",
       "      <td>...</td>\n",
       "      <td>...</td>\n",
       "      <td>...</td>\n",
       "      <td>...</td>\n",
       "      <td>...</td>\n",
       "    </tr>\n",
       "    <tr>\n",
       "      <th>3390</th>\n",
       "      <td>7021565</td>\n",
       "      <td>6.74</td>\n",
       "      <td>0.00</td>\n",
       "      <td>0015-10-01 16:31:18</td>\n",
       "      <td>0015-10-01 19:59:08</td>\n",
       "      <td>16</td>\n",
       "      <td>19</td>\n",
       "      <td>3.463889</td>\n",
       "      <td>Thu</td>\n",
       "      <td>ios</td>\n",
       "      <td>...</td>\n",
       "      <td>0</td>\n",
       "      <td>2</td>\n",
       "      <td>0</td>\n",
       "      <td>0</td>\n",
       "      <td>0</td>\n",
       "      <td>1</td>\n",
       "      <td>0</td>\n",
       "      <td>0</td>\n",
       "      <td>0</td>\n",
       "      <td>1</td>\n",
       "    </tr>\n",
       "    <tr>\n",
       "      <th>3391</th>\n",
       "      <td>3758092</td>\n",
       "      <td>6.86</td>\n",
       "      <td>0.00</td>\n",
       "      <td>0015-10-02 16:28:48</td>\n",
       "      <td>0015-10-02 19:27:05</td>\n",
       "      <td>16</td>\n",
       "      <td>19</td>\n",
       "      <td>2.971389</td>\n",
       "      <td>Fri</td>\n",
       "      <td>ios</td>\n",
       "      <td>...</td>\n",
       "      <td>0</td>\n",
       "      <td>2</td>\n",
       "      <td>0</td>\n",
       "      <td>0</td>\n",
       "      <td>0</td>\n",
       "      <td>0</td>\n",
       "      <td>1</td>\n",
       "      <td>0</td>\n",
       "      <td>0</td>\n",
       "      <td>1</td>\n",
       "    </tr>\n",
       "    <tr>\n",
       "      <th>3392</th>\n",
       "      <td>5858374</td>\n",
       "      <td>6.07</td>\n",
       "      <td>0.00</td>\n",
       "      <td>0015-09-30 16:54:22</td>\n",
       "      <td>0015-09-30 20:24:06</td>\n",
       "      <td>16</td>\n",
       "      <td>20</td>\n",
       "      <td>3.495556</td>\n",
       "      <td>Wed</td>\n",
       "      <td>android</td>\n",
       "      <td>...</td>\n",
       "      <td>0</td>\n",
       "      <td>3</td>\n",
       "      <td>0</td>\n",
       "      <td>0</td>\n",
       "      <td>1</td>\n",
       "      <td>0</td>\n",
       "      <td>0</td>\n",
       "      <td>0</td>\n",
       "      <td>0</td>\n",
       "      <td>1</td>\n",
       "    </tr>\n",
       "    <tr>\n",
       "      <th>3393</th>\n",
       "      <td>2586645</td>\n",
       "      <td>5.74</td>\n",
       "      <td>0.00</td>\n",
       "      <td>0015-09-24 11:43:02</td>\n",
       "      <td>0015-09-24 13:55:12</td>\n",
       "      <td>11</td>\n",
       "      <td>13</td>\n",
       "      <td>2.202778</td>\n",
       "      <td>Thu</td>\n",
       "      <td>ios</td>\n",
       "      <td>...</td>\n",
       "      <td>1</td>\n",
       "      <td>2</td>\n",
       "      <td>0</td>\n",
       "      <td>0</td>\n",
       "      <td>0</td>\n",
       "      <td>1</td>\n",
       "      <td>0</td>\n",
       "      <td>0</td>\n",
       "      <td>0</td>\n",
       "      <td>1</td>\n",
       "    </tr>\n",
       "    <tr>\n",
       "      <th>3394</th>\n",
       "      <td>7860608</td>\n",
       "      <td>6.95</td>\n",
       "      <td>0.00</td>\n",
       "      <td>0015-10-01 16:43:05</td>\n",
       "      <td>0015-10-01 19:42:06</td>\n",
       "      <td>16</td>\n",
       "      <td>19</td>\n",
       "      <td>2.983611</td>\n",
       "      <td>Thu</td>\n",
       "      <td>ios</td>\n",
       "      <td>...</td>\n",
       "      <td>0</td>\n",
       "      <td>3</td>\n",
       "      <td>0</td>\n",
       "      <td>0</td>\n",
       "      <td>0</td>\n",
       "      <td>1</td>\n",
       "      <td>0</td>\n",
       "      <td>0</td>\n",
       "      <td>0</td>\n",
       "      <td>1</td>\n",
       "    </tr>\n",
       "  </tbody>\n",
       "</table>\n",
       "<p>3395 rows × 24 columns</p>\n",
       "</div>"
      ],
      "text/plain": [
       "      sessionId  kwhTotal  dollars              created                ended  \\\n",
       "0       1366563      7.78     0.00  0014-11-18 15:40:26  0014-11-18 17:11:04   \n",
       "1       3075723      9.74     0.00  0014-11-19 17:40:26  0014-11-19 19:51:04   \n",
       "2       4228788      6.76     0.58  0014-11-21 12:05:46  0014-11-21 16:46:04   \n",
       "3       3173284      6.17     0.00  0014-12-03 19:16:12  0014-12-03 21:02:18   \n",
       "4       3266500      0.93     0.00  0014-12-11 20:56:11  0014-12-11 21:14:06   \n",
       "...         ...       ...      ...                  ...                  ...   \n",
       "3390    7021565      6.74     0.00  0015-10-01 16:31:18  0015-10-01 19:59:08   \n",
       "3391    3758092      6.86     0.00  0015-10-02 16:28:48  0015-10-02 19:27:05   \n",
       "3392    5858374      6.07     0.00  0015-09-30 16:54:22  0015-09-30 20:24:06   \n",
       "3393    2586645      5.74     0.00  0015-09-24 11:43:02  0015-09-24 13:55:12   \n",
       "3394    7860608      6.95     0.00  0015-10-01 16:43:05  0015-10-01 19:42:06   \n",
       "\n",
       "      startTime  endTime  chargeTimeHrs weekday platform  ...  managerVehicle  \\\n",
       "0            15       17       1.510556     Tue  android  ...               0   \n",
       "1            17       19       2.177222     Wed  android  ...               0   \n",
       "2            12       16       4.671667     Fri  android  ...               0   \n",
       "3            19       21       1.768333     Wed  android  ...               0   \n",
       "4            20       21       0.298611     Thu  android  ...               0   \n",
       "...         ...      ...            ...     ...      ...  ...             ...   \n",
       "3390         16       19       3.463889     Thu      ios  ...               0   \n",
       "3391         16       19       2.971389     Fri      ios  ...               0   \n",
       "3392         16       20       3.495556     Wed  android  ...               0   \n",
       "3393         11       13       2.202778     Thu      ios  ...               1   \n",
       "3394         16       19       2.983611     Thu      ios  ...               0   \n",
       "\n",
       "      facilityType  Mon  Tues  Wed  Thurs  Fri  Sat  Sun  reportedZip  \n",
       "0                3    0     1    0      0    0    0    0            0  \n",
       "1                3    0     0    1      0    0    0    0            0  \n",
       "2                3    0     0    0      0    1    0    0            0  \n",
       "3                3    0     0    1      0    0    0    0            0  \n",
       "4                3    0     0    0      1    0    0    0            0  \n",
       "...            ...  ...   ...  ...    ...  ...  ...  ...          ...  \n",
       "3390             2    0     0    0      1    0    0    0            1  \n",
       "3391             2    0     0    0      0    1    0    0            1  \n",
       "3392             3    0     0    1      0    0    0    0            1  \n",
       "3393             2    0     0    0      1    0    0    0            1  \n",
       "3394             3    0     0    0      1    0    0    0            1  \n",
       "\n",
       "[3395 rows x 24 columns]"
      ]
     },
     "execution_count": 2,
     "metadata": {},
     "output_type": "execute_result"
    }
   ],
   "source": [
    "df = pd.read_csv('EV_stations.csv')\n",
    "df"
   ]
  },
  {
   "cell_type": "code",
   "execution_count": 3,
   "id": "9ba1faf8",
   "metadata": {},
   "outputs": [
    {
     "data": {
      "text/html": [
       "<div>\n",
       "<style scoped>\n",
       "    .dataframe tbody tr th:only-of-type {\n",
       "        vertical-align: middle;\n",
       "    }\n",
       "\n",
       "    .dataframe tbody tr th {\n",
       "        vertical-align: top;\n",
       "    }\n",
       "\n",
       "    .dataframe thead th {\n",
       "        text-align: right;\n",
       "    }\n",
       "</style>\n",
       "<table border=\"1\" class=\"dataframe\">\n",
       "  <thead>\n",
       "    <tr style=\"text-align: right;\">\n",
       "      <th></th>\n",
       "      <th>sessionId</th>\n",
       "      <th>kwhTotal</th>\n",
       "      <th>dollars</th>\n",
       "      <th>startTime</th>\n",
       "      <th>endTime</th>\n",
       "      <th>chargeTimeHrs</th>\n",
       "      <th>distance</th>\n",
       "      <th>userId</th>\n",
       "      <th>stationId</th>\n",
       "      <th>locationId</th>\n",
       "      <th>managerVehicle</th>\n",
       "      <th>facilityType</th>\n",
       "      <th>Mon</th>\n",
       "      <th>Tues</th>\n",
       "      <th>Wed</th>\n",
       "      <th>Thurs</th>\n",
       "      <th>Fri</th>\n",
       "      <th>Sat</th>\n",
       "      <th>Sun</th>\n",
       "      <th>reportedZip</th>\n",
       "    </tr>\n",
       "  </thead>\n",
       "  <tbody>\n",
       "    <tr>\n",
       "      <th>count</th>\n",
       "      <td>3.395000e+03</td>\n",
       "      <td>3395.000000</td>\n",
       "      <td>3395.000000</td>\n",
       "      <td>3395.000000</td>\n",
       "      <td>3395.000000</td>\n",
       "      <td>3395.000000</td>\n",
       "      <td>2330.000000</td>\n",
       "      <td>3.395000e+03</td>\n",
       "      <td>3395.000000</td>\n",
       "      <td>3395.000000</td>\n",
       "      <td>3395.000000</td>\n",
       "      <td>3395.000000</td>\n",
       "      <td>3395.000000</td>\n",
       "      <td>3395.000000</td>\n",
       "      <td>3395.000000</td>\n",
       "      <td>3395.000000</td>\n",
       "      <td>3395.000000</td>\n",
       "      <td>3395.000000</td>\n",
       "      <td>3395.000000</td>\n",
       "      <td>3395.000000</td>\n",
       "    </tr>\n",
       "    <tr>\n",
       "      <th>mean</th>\n",
       "      <td>5.487001e+06</td>\n",
       "      <td>5.809629</td>\n",
       "      <td>0.118268</td>\n",
       "      <td>13.743446</td>\n",
       "      <td>16.455965</td>\n",
       "      <td>2.841488</td>\n",
       "      <td>18.652378</td>\n",
       "      <td>5.742395e+07</td>\n",
       "      <td>576789.678056</td>\n",
       "      <td>629934.460677</td>\n",
       "      <td>0.595582</td>\n",
       "      <td>2.428571</td>\n",
       "      <td>0.181443</td>\n",
       "      <td>0.187040</td>\n",
       "      <td>0.210015</td>\n",
       "      <td>0.216495</td>\n",
       "      <td>0.179676</td>\n",
       "      <td>0.018262</td>\n",
       "      <td>0.007069</td>\n",
       "      <td>0.703976</td>\n",
       "    </tr>\n",
       "    <tr>\n",
       "      <th>std</th>\n",
       "      <td>2.590657e+06</td>\n",
       "      <td>2.892727</td>\n",
       "      <td>0.492562</td>\n",
       "      <td>3.204370</td>\n",
       "      <td>3.406732</td>\n",
       "      <td>1.507472</td>\n",
       "      <td>11.420571</td>\n",
       "      <td>2.674772e+07</td>\n",
       "      <td>257486.310402</td>\n",
       "      <td>255620.993849</td>\n",
       "      <td>0.490851</td>\n",
       "      <td>0.811204</td>\n",
       "      <td>0.385442</td>\n",
       "      <td>0.390001</td>\n",
       "      <td>0.407379</td>\n",
       "      <td>0.411916</td>\n",
       "      <td>0.383974</td>\n",
       "      <td>0.133918</td>\n",
       "      <td>0.083793</td>\n",
       "      <td>0.456569</td>\n",
       "    </tr>\n",
       "    <tr>\n",
       "      <th>min</th>\n",
       "      <td>1.004821e+06</td>\n",
       "      <td>0.000000</td>\n",
       "      <td>0.000000</td>\n",
       "      <td>0.000000</td>\n",
       "      <td>0.000000</td>\n",
       "      <td>0.012500</td>\n",
       "      <td>0.856911</td>\n",
       "      <td>1.042767e+07</td>\n",
       "      <td>129465.000000</td>\n",
       "      <td>125372.000000</td>\n",
       "      <td>0.000000</td>\n",
       "      <td>1.000000</td>\n",
       "      <td>0.000000</td>\n",
       "      <td>0.000000</td>\n",
       "      <td>0.000000</td>\n",
       "      <td>0.000000</td>\n",
       "      <td>0.000000</td>\n",
       "      <td>0.000000</td>\n",
       "      <td>0.000000</td>\n",
       "      <td>0.000000</td>\n",
       "    </tr>\n",
       "    <tr>\n",
       "      <th>25%</th>\n",
       "      <td>3.234666e+06</td>\n",
       "      <td>4.350000</td>\n",
       "      <td>0.000000</td>\n",
       "      <td>11.000000</td>\n",
       "      <td>14.000000</td>\n",
       "      <td>2.110278</td>\n",
       "      <td>5.135871</td>\n",
       "      <td>3.329548e+07</td>\n",
       "      <td>369001.000000</td>\n",
       "      <td>481066.000000</td>\n",
       "      <td>0.000000</td>\n",
       "      <td>2.000000</td>\n",
       "      <td>0.000000</td>\n",
       "      <td>0.000000</td>\n",
       "      <td>0.000000</td>\n",
       "      <td>0.000000</td>\n",
       "      <td>0.000000</td>\n",
       "      <td>0.000000</td>\n",
       "      <td>0.000000</td>\n",
       "      <td>0.000000</td>\n",
       "    </tr>\n",
       "    <tr>\n",
       "      <th>50%</th>\n",
       "      <td>5.451498e+06</td>\n",
       "      <td>6.230000</td>\n",
       "      <td>0.000000</td>\n",
       "      <td>13.000000</td>\n",
       "      <td>16.000000</td>\n",
       "      <td>2.808889</td>\n",
       "      <td>21.023826</td>\n",
       "      <td>4.924181e+07</td>\n",
       "      <td>549414.000000</td>\n",
       "      <td>503205.000000</td>\n",
       "      <td>1.000000</td>\n",
       "      <td>3.000000</td>\n",
       "      <td>0.000000</td>\n",
       "      <td>0.000000</td>\n",
       "      <td>0.000000</td>\n",
       "      <td>0.000000</td>\n",
       "      <td>0.000000</td>\n",
       "      <td>0.000000</td>\n",
       "      <td>0.000000</td>\n",
       "      <td>1.000000</td>\n",
       "    </tr>\n",
       "    <tr>\n",
       "      <th>75%</th>\n",
       "      <td>7.746644e+06</td>\n",
       "      <td>6.830000</td>\n",
       "      <td>0.000000</td>\n",
       "      <td>17.000000</td>\n",
       "      <td>20.000000</td>\n",
       "      <td>3.544167</td>\n",
       "      <td>27.285053</td>\n",
       "      <td>8.188052e+07</td>\n",
       "      <td>864630.000000</td>\n",
       "      <td>878393.000000</td>\n",
       "      <td>1.000000</td>\n",
       "      <td>3.000000</td>\n",
       "      <td>0.000000</td>\n",
       "      <td>0.000000</td>\n",
       "      <td>0.000000</td>\n",
       "      <td>0.000000</td>\n",
       "      <td>0.000000</td>\n",
       "      <td>0.000000</td>\n",
       "      <td>0.000000</td>\n",
       "      <td>1.000000</td>\n",
       "    </tr>\n",
       "    <tr>\n",
       "      <th>max</th>\n",
       "      <td>9.998981e+06</td>\n",
       "      <td>23.680000</td>\n",
       "      <td>7.500000</td>\n",
       "      <td>23.000000</td>\n",
       "      <td>23.000000</td>\n",
       "      <td>55.238056</td>\n",
       "      <td>43.059292</td>\n",
       "      <td>9.834581e+07</td>\n",
       "      <td>995505.000000</td>\n",
       "      <td>978130.000000</td>\n",
       "      <td>1.000000</td>\n",
       "      <td>4.000000</td>\n",
       "      <td>1.000000</td>\n",
       "      <td>1.000000</td>\n",
       "      <td>1.000000</td>\n",
       "      <td>1.000000</td>\n",
       "      <td>1.000000</td>\n",
       "      <td>1.000000</td>\n",
       "      <td>1.000000</td>\n",
       "      <td>1.000000</td>\n",
       "    </tr>\n",
       "  </tbody>\n",
       "</table>\n",
       "</div>"
      ],
      "text/plain": [
       "          sessionId     kwhTotal      dollars    startTime      endTime  \\\n",
       "count  3.395000e+03  3395.000000  3395.000000  3395.000000  3395.000000   \n",
       "mean   5.487001e+06     5.809629     0.118268    13.743446    16.455965   \n",
       "std    2.590657e+06     2.892727     0.492562     3.204370     3.406732   \n",
       "min    1.004821e+06     0.000000     0.000000     0.000000     0.000000   \n",
       "25%    3.234666e+06     4.350000     0.000000    11.000000    14.000000   \n",
       "50%    5.451498e+06     6.230000     0.000000    13.000000    16.000000   \n",
       "75%    7.746644e+06     6.830000     0.000000    17.000000    20.000000   \n",
       "max    9.998981e+06    23.680000     7.500000    23.000000    23.000000   \n",
       "\n",
       "       chargeTimeHrs     distance        userId      stationId     locationId  \\\n",
       "count    3395.000000  2330.000000  3.395000e+03    3395.000000    3395.000000   \n",
       "mean        2.841488    18.652378  5.742395e+07  576789.678056  629934.460677   \n",
       "std         1.507472    11.420571  2.674772e+07  257486.310402  255620.993849   \n",
       "min         0.012500     0.856911  1.042767e+07  129465.000000  125372.000000   \n",
       "25%         2.110278     5.135871  3.329548e+07  369001.000000  481066.000000   \n",
       "50%         2.808889    21.023826  4.924181e+07  549414.000000  503205.000000   \n",
       "75%         3.544167    27.285053  8.188052e+07  864630.000000  878393.000000   \n",
       "max        55.238056    43.059292  9.834581e+07  995505.000000  978130.000000   \n",
       "\n",
       "       managerVehicle  facilityType          Mon         Tues          Wed  \\\n",
       "count     3395.000000   3395.000000  3395.000000  3395.000000  3395.000000   \n",
       "mean         0.595582      2.428571     0.181443     0.187040     0.210015   \n",
       "std          0.490851      0.811204     0.385442     0.390001     0.407379   \n",
       "min          0.000000      1.000000     0.000000     0.000000     0.000000   \n",
       "25%          0.000000      2.000000     0.000000     0.000000     0.000000   \n",
       "50%          1.000000      3.000000     0.000000     0.000000     0.000000   \n",
       "75%          1.000000      3.000000     0.000000     0.000000     0.000000   \n",
       "max          1.000000      4.000000     1.000000     1.000000     1.000000   \n",
       "\n",
       "             Thurs          Fri          Sat          Sun  reportedZip  \n",
       "count  3395.000000  3395.000000  3395.000000  3395.000000  3395.000000  \n",
       "mean      0.216495     0.179676     0.018262     0.007069     0.703976  \n",
       "std       0.411916     0.383974     0.133918     0.083793     0.456569  \n",
       "min       0.000000     0.000000     0.000000     0.000000     0.000000  \n",
       "25%       0.000000     0.000000     0.000000     0.000000     0.000000  \n",
       "50%       0.000000     0.000000     0.000000     0.000000     1.000000  \n",
       "75%       0.000000     0.000000     0.000000     0.000000     1.000000  \n",
       "max       1.000000     1.000000     1.000000     1.000000     1.000000  "
      ]
     },
     "execution_count": 3,
     "metadata": {},
     "output_type": "execute_result"
    }
   ],
   "source": [
    "df.describe()"
   ]
  },
  {
   "cell_type": "code",
   "execution_count": 4,
   "id": "85459ebf",
   "metadata": {},
   "outputs": [
    {
     "name": "stdout",
     "output_type": "stream",
     "text": [
      "<class 'pandas.core.frame.DataFrame'>\n",
      "RangeIndex: 3395 entries, 0 to 3394\n",
      "Data columns (total 24 columns):\n",
      " #   Column          Non-Null Count  Dtype  \n",
      "---  ------          --------------  -----  \n",
      " 0   sessionId       3395 non-null   int64  \n",
      " 1   kwhTotal        3395 non-null   float64\n",
      " 2   dollars         3395 non-null   float64\n",
      " 3   created         3395 non-null   object \n",
      " 4   ended           3395 non-null   object \n",
      " 5   startTime       3395 non-null   int64  \n",
      " 6   endTime         3395 non-null   int64  \n",
      " 7   chargeTimeHrs   3395 non-null   float64\n",
      " 8   weekday         3395 non-null   object \n",
      " 9   platform        3395 non-null   object \n",
      " 10  distance        2330 non-null   float64\n",
      " 11  userId          3395 non-null   int64  \n",
      " 12  stationId       3395 non-null   int64  \n",
      " 13  locationId      3395 non-null   int64  \n",
      " 14  managerVehicle  3395 non-null   int64  \n",
      " 15  facilityType    3395 non-null   int64  \n",
      " 16  Mon             3395 non-null   int64  \n",
      " 17  Tues            3395 non-null   int64  \n",
      " 18  Wed             3395 non-null   int64  \n",
      " 19  Thurs           3395 non-null   int64  \n",
      " 20  Fri             3395 non-null   int64  \n",
      " 21  Sat             3395 non-null   int64  \n",
      " 22  Sun             3395 non-null   int64  \n",
      " 23  reportedZip     3395 non-null   int64  \n",
      "dtypes: float64(4), int64(16), object(4)\n",
      "memory usage: 636.7+ KB\n"
     ]
    }
   ],
   "source": [
    "df.info()"
   ]
  },
  {
   "cell_type": "code",
   "execution_count": 5,
   "id": "c19d81b4",
   "metadata": {},
   "outputs": [
    {
     "data": {
      "text/plain": [
       "(3395, 24)"
      ]
     },
     "execution_count": 5,
     "metadata": {},
     "output_type": "execute_result"
    }
   ],
   "source": [
    "df.shape"
   ]
  },
  {
   "cell_type": "code",
   "execution_count": 6,
   "id": "d6087d74",
   "metadata": {},
   "outputs": [
    {
     "data": {
      "text/plain": [
       "Index(['sessionId', 'kwhTotal', 'dollars', 'created', 'ended', 'startTime',\n",
       "       'endTime', 'chargeTimeHrs', 'weekday', 'platform', 'distance', 'userId',\n",
       "       'stationId', 'locationId', 'managerVehicle', 'facilityType', 'Mon',\n",
       "       'Tues', 'Wed', 'Thurs', 'Fri', 'Sat', 'Sun', 'reportedZip'],\n",
       "      dtype='object')"
      ]
     },
     "execution_count": 6,
     "metadata": {},
     "output_type": "execute_result"
    }
   ],
   "source": [
    "df.columns"
   ]
  },
  {
   "cell_type": "code",
   "execution_count": 7,
   "id": "52c89d07",
   "metadata": {},
   "outputs": [
    {
     "data": {
      "text/html": [
       "<div>\n",
       "<style scoped>\n",
       "    .dataframe tbody tr th:only-of-type {\n",
       "        vertical-align: middle;\n",
       "    }\n",
       "\n",
       "    .dataframe tbody tr th {\n",
       "        vertical-align: top;\n",
       "    }\n",
       "\n",
       "    .dataframe thead th {\n",
       "        text-align: right;\n",
       "    }\n",
       "</style>\n",
       "<table border=\"1\" class=\"dataframe\">\n",
       "  <thead>\n",
       "    <tr style=\"text-align: right;\">\n",
       "      <th></th>\n",
       "      <th>sessionId</th>\n",
       "      <th>kwhTotal</th>\n",
       "      <th>dollars</th>\n",
       "      <th>created</th>\n",
       "      <th>ended</th>\n",
       "      <th>startTime</th>\n",
       "      <th>endTime</th>\n",
       "      <th>chargeTimeHrs</th>\n",
       "      <th>weekday</th>\n",
       "      <th>platform</th>\n",
       "      <th>...</th>\n",
       "      <th>managerVehicle</th>\n",
       "      <th>facilityType</th>\n",
       "      <th>Mon</th>\n",
       "      <th>Tues</th>\n",
       "      <th>Wed</th>\n",
       "      <th>Thurs</th>\n",
       "      <th>Fri</th>\n",
       "      <th>Sat</th>\n",
       "      <th>Sun</th>\n",
       "      <th>reportedZip</th>\n",
       "    </tr>\n",
       "  </thead>\n",
       "  <tbody>\n",
       "    <tr>\n",
       "      <th>0</th>\n",
       "      <td>1366563</td>\n",
       "      <td>7.78</td>\n",
       "      <td>0.00</td>\n",
       "      <td>0014-11-18 15:40:26</td>\n",
       "      <td>0014-11-18 17:11:04</td>\n",
       "      <td>15</td>\n",
       "      <td>17</td>\n",
       "      <td>1.510556</td>\n",
       "      <td>Tue</td>\n",
       "      <td>android</td>\n",
       "      <td>...</td>\n",
       "      <td>0</td>\n",
       "      <td>3</td>\n",
       "      <td>0</td>\n",
       "      <td>1</td>\n",
       "      <td>0</td>\n",
       "      <td>0</td>\n",
       "      <td>0</td>\n",
       "      <td>0</td>\n",
       "      <td>0</td>\n",
       "      <td>0</td>\n",
       "    </tr>\n",
       "    <tr>\n",
       "      <th>1</th>\n",
       "      <td>3075723</td>\n",
       "      <td>9.74</td>\n",
       "      <td>0.00</td>\n",
       "      <td>0014-11-19 17:40:26</td>\n",
       "      <td>0014-11-19 19:51:04</td>\n",
       "      <td>17</td>\n",
       "      <td>19</td>\n",
       "      <td>2.177222</td>\n",
       "      <td>Wed</td>\n",
       "      <td>android</td>\n",
       "      <td>...</td>\n",
       "      <td>0</td>\n",
       "      <td>3</td>\n",
       "      <td>0</td>\n",
       "      <td>0</td>\n",
       "      <td>1</td>\n",
       "      <td>0</td>\n",
       "      <td>0</td>\n",
       "      <td>0</td>\n",
       "      <td>0</td>\n",
       "      <td>0</td>\n",
       "    </tr>\n",
       "    <tr>\n",
       "      <th>2</th>\n",
       "      <td>4228788</td>\n",
       "      <td>6.76</td>\n",
       "      <td>0.58</td>\n",
       "      <td>0014-11-21 12:05:46</td>\n",
       "      <td>0014-11-21 16:46:04</td>\n",
       "      <td>12</td>\n",
       "      <td>16</td>\n",
       "      <td>4.671667</td>\n",
       "      <td>Fri</td>\n",
       "      <td>android</td>\n",
       "      <td>...</td>\n",
       "      <td>0</td>\n",
       "      <td>3</td>\n",
       "      <td>0</td>\n",
       "      <td>0</td>\n",
       "      <td>0</td>\n",
       "      <td>0</td>\n",
       "      <td>1</td>\n",
       "      <td>0</td>\n",
       "      <td>0</td>\n",
       "      <td>0</td>\n",
       "    </tr>\n",
       "    <tr>\n",
       "      <th>3</th>\n",
       "      <td>3173284</td>\n",
       "      <td>6.17</td>\n",
       "      <td>0.00</td>\n",
       "      <td>0014-12-03 19:16:12</td>\n",
       "      <td>0014-12-03 21:02:18</td>\n",
       "      <td>19</td>\n",
       "      <td>21</td>\n",
       "      <td>1.768333</td>\n",
       "      <td>Wed</td>\n",
       "      <td>android</td>\n",
       "      <td>...</td>\n",
       "      <td>0</td>\n",
       "      <td>3</td>\n",
       "      <td>0</td>\n",
       "      <td>0</td>\n",
       "      <td>1</td>\n",
       "      <td>0</td>\n",
       "      <td>0</td>\n",
       "      <td>0</td>\n",
       "      <td>0</td>\n",
       "      <td>0</td>\n",
       "    </tr>\n",
       "    <tr>\n",
       "      <th>4</th>\n",
       "      <td>3266500</td>\n",
       "      <td>0.93</td>\n",
       "      <td>0.00</td>\n",
       "      <td>0014-12-11 20:56:11</td>\n",
       "      <td>0014-12-11 21:14:06</td>\n",
       "      <td>20</td>\n",
       "      <td>21</td>\n",
       "      <td>0.298611</td>\n",
       "      <td>Thu</td>\n",
       "      <td>android</td>\n",
       "      <td>...</td>\n",
       "      <td>0</td>\n",
       "      <td>3</td>\n",
       "      <td>0</td>\n",
       "      <td>0</td>\n",
       "      <td>0</td>\n",
       "      <td>1</td>\n",
       "      <td>0</td>\n",
       "      <td>0</td>\n",
       "      <td>0</td>\n",
       "      <td>0</td>\n",
       "    </tr>\n",
       "  </tbody>\n",
       "</table>\n",
       "<p>5 rows × 24 columns</p>\n",
       "</div>"
      ],
      "text/plain": [
       "   sessionId  kwhTotal  dollars              created                ended  \\\n",
       "0    1366563      7.78     0.00  0014-11-18 15:40:26  0014-11-18 17:11:04   \n",
       "1    3075723      9.74     0.00  0014-11-19 17:40:26  0014-11-19 19:51:04   \n",
       "2    4228788      6.76     0.58  0014-11-21 12:05:46  0014-11-21 16:46:04   \n",
       "3    3173284      6.17     0.00  0014-12-03 19:16:12  0014-12-03 21:02:18   \n",
       "4    3266500      0.93     0.00  0014-12-11 20:56:11  0014-12-11 21:14:06   \n",
       "\n",
       "   startTime  endTime  chargeTimeHrs weekday platform  ...  managerVehicle  \\\n",
       "0         15       17       1.510556     Tue  android  ...               0   \n",
       "1         17       19       2.177222     Wed  android  ...               0   \n",
       "2         12       16       4.671667     Fri  android  ...               0   \n",
       "3         19       21       1.768333     Wed  android  ...               0   \n",
       "4         20       21       0.298611     Thu  android  ...               0   \n",
       "\n",
       "   facilityType  Mon  Tues  Wed  Thurs  Fri  Sat  Sun  reportedZip  \n",
       "0             3    0     1    0      0    0    0    0            0  \n",
       "1             3    0     0    1      0    0    0    0            0  \n",
       "2             3    0     0    0      0    1    0    0            0  \n",
       "3             3    0     0    1      0    0    0    0            0  \n",
       "4             3    0     0    0      1    0    0    0            0  \n",
       "\n",
       "[5 rows x 24 columns]"
      ]
     },
     "execution_count": 7,
     "metadata": {},
     "output_type": "execute_result"
    }
   ],
   "source": [
    "df.head(5)"
   ]
  },
  {
   "cell_type": "code",
   "execution_count": 8,
   "id": "9f2e5b07",
   "metadata": {
    "scrolled": false
   },
   "outputs": [
    {
     "data": {
      "text/plain": [
       "sessionId            0\n",
       "kwhTotal             0\n",
       "dollars              0\n",
       "created              0\n",
       "ended                0\n",
       "startTime            0\n",
       "endTime              0\n",
       "chargeTimeHrs        0\n",
       "weekday              0\n",
       "platform             0\n",
       "distance          1065\n",
       "userId               0\n",
       "stationId            0\n",
       "locationId           0\n",
       "managerVehicle       0\n",
       "facilityType         0\n",
       "Mon                  0\n",
       "Tues                 0\n",
       "Wed                  0\n",
       "Thurs                0\n",
       "Fri                  0\n",
       "Sat                  0\n",
       "Sun                  0\n",
       "reportedZip          0\n",
       "dtype: int64"
      ]
     },
     "execution_count": 8,
     "metadata": {},
     "output_type": "execute_result"
    }
   ],
   "source": [
    "df.isnull().sum()"
   ]
  },
  {
   "cell_type": "code",
   "execution_count": 9,
   "id": "eb460d8d",
   "metadata": {},
   "outputs": [
    {
     "data": {
      "text/plain": [
       "1065"
      ]
     },
     "execution_count": 9,
     "metadata": {},
     "output_type": "execute_result"
    }
   ],
   "source": [
    "df.isnull().sum().sum()"
   ]
  },
  {
   "cell_type": "code",
   "execution_count": 10,
   "id": "2dc2ff10",
   "metadata": {},
   "outputs": [
    {
     "data": {
      "text/html": [
       "<div>\n",
       "<style scoped>\n",
       "    .dataframe tbody tr th:only-of-type {\n",
       "        vertical-align: middle;\n",
       "    }\n",
       "\n",
       "    .dataframe tbody tr th {\n",
       "        vertical-align: top;\n",
       "    }\n",
       "\n",
       "    .dataframe thead th {\n",
       "        text-align: right;\n",
       "    }\n",
       "</style>\n",
       "<table border=\"1\" class=\"dataframe\">\n",
       "  <thead>\n",
       "    <tr style=\"text-align: right;\">\n",
       "      <th></th>\n",
       "      <th>sessionId</th>\n",
       "      <th>kwhTotal</th>\n",
       "      <th>dollars</th>\n",
       "      <th>created</th>\n",
       "      <th>ended</th>\n",
       "      <th>startTime</th>\n",
       "      <th>endTime</th>\n",
       "      <th>chargeTimeHrs</th>\n",
       "      <th>weekday</th>\n",
       "      <th>platform</th>\n",
       "      <th>...</th>\n",
       "      <th>managerVehicle</th>\n",
       "      <th>facilityType</th>\n",
       "      <th>Mon</th>\n",
       "      <th>Tues</th>\n",
       "      <th>Wed</th>\n",
       "      <th>Thurs</th>\n",
       "      <th>Fri</th>\n",
       "      <th>Sat</th>\n",
       "      <th>Sun</th>\n",
       "      <th>reportedZip</th>\n",
       "    </tr>\n",
       "  </thead>\n",
       "  <tbody>\n",
       "    <tr>\n",
       "      <th>0</th>\n",
       "      <td>1366563</td>\n",
       "      <td>7.78</td>\n",
       "      <td>0.00</td>\n",
       "      <td>0014-11-18 15:40:26</td>\n",
       "      <td>0014-11-18 17:11:04</td>\n",
       "      <td>15</td>\n",
       "      <td>17</td>\n",
       "      <td>1.510556</td>\n",
       "      <td>Tue</td>\n",
       "      <td>android</td>\n",
       "      <td>...</td>\n",
       "      <td>0</td>\n",
       "      <td>3</td>\n",
       "      <td>0</td>\n",
       "      <td>1</td>\n",
       "      <td>0</td>\n",
       "      <td>0</td>\n",
       "      <td>0</td>\n",
       "      <td>0</td>\n",
       "      <td>0</td>\n",
       "      <td>0</td>\n",
       "    </tr>\n",
       "    <tr>\n",
       "      <th>1</th>\n",
       "      <td>3075723</td>\n",
       "      <td>9.74</td>\n",
       "      <td>0.00</td>\n",
       "      <td>0014-11-19 17:40:26</td>\n",
       "      <td>0014-11-19 19:51:04</td>\n",
       "      <td>17</td>\n",
       "      <td>19</td>\n",
       "      <td>2.177222</td>\n",
       "      <td>Wed</td>\n",
       "      <td>android</td>\n",
       "      <td>...</td>\n",
       "      <td>0</td>\n",
       "      <td>3</td>\n",
       "      <td>0</td>\n",
       "      <td>0</td>\n",
       "      <td>1</td>\n",
       "      <td>0</td>\n",
       "      <td>0</td>\n",
       "      <td>0</td>\n",
       "      <td>0</td>\n",
       "      <td>0</td>\n",
       "    </tr>\n",
       "    <tr>\n",
       "      <th>2</th>\n",
       "      <td>4228788</td>\n",
       "      <td>6.76</td>\n",
       "      <td>0.58</td>\n",
       "      <td>0014-11-21 12:05:46</td>\n",
       "      <td>0014-11-21 16:46:04</td>\n",
       "      <td>12</td>\n",
       "      <td>16</td>\n",
       "      <td>4.671667</td>\n",
       "      <td>Fri</td>\n",
       "      <td>android</td>\n",
       "      <td>...</td>\n",
       "      <td>0</td>\n",
       "      <td>3</td>\n",
       "      <td>0</td>\n",
       "      <td>0</td>\n",
       "      <td>0</td>\n",
       "      <td>0</td>\n",
       "      <td>1</td>\n",
       "      <td>0</td>\n",
       "      <td>0</td>\n",
       "      <td>0</td>\n",
       "    </tr>\n",
       "    <tr>\n",
       "      <th>3</th>\n",
       "      <td>3173284</td>\n",
       "      <td>6.17</td>\n",
       "      <td>0.00</td>\n",
       "      <td>0014-12-03 19:16:12</td>\n",
       "      <td>0014-12-03 21:02:18</td>\n",
       "      <td>19</td>\n",
       "      <td>21</td>\n",
       "      <td>1.768333</td>\n",
       "      <td>Wed</td>\n",
       "      <td>android</td>\n",
       "      <td>...</td>\n",
       "      <td>0</td>\n",
       "      <td>3</td>\n",
       "      <td>0</td>\n",
       "      <td>0</td>\n",
       "      <td>1</td>\n",
       "      <td>0</td>\n",
       "      <td>0</td>\n",
       "      <td>0</td>\n",
       "      <td>0</td>\n",
       "      <td>0</td>\n",
       "    </tr>\n",
       "    <tr>\n",
       "      <th>4</th>\n",
       "      <td>3266500</td>\n",
       "      <td>0.93</td>\n",
       "      <td>0.00</td>\n",
       "      <td>0014-12-11 20:56:11</td>\n",
       "      <td>0014-12-11 21:14:06</td>\n",
       "      <td>20</td>\n",
       "      <td>21</td>\n",
       "      <td>0.298611</td>\n",
       "      <td>Thu</td>\n",
       "      <td>android</td>\n",
       "      <td>...</td>\n",
       "      <td>0</td>\n",
       "      <td>3</td>\n",
       "      <td>0</td>\n",
       "      <td>0</td>\n",
       "      <td>0</td>\n",
       "      <td>1</td>\n",
       "      <td>0</td>\n",
       "      <td>0</td>\n",
       "      <td>0</td>\n",
       "      <td>0</td>\n",
       "    </tr>\n",
       "    <tr>\n",
       "      <th>...</th>\n",
       "      <td>...</td>\n",
       "      <td>...</td>\n",
       "      <td>...</td>\n",
       "      <td>...</td>\n",
       "      <td>...</td>\n",
       "      <td>...</td>\n",
       "      <td>...</td>\n",
       "      <td>...</td>\n",
       "      <td>...</td>\n",
       "      <td>...</td>\n",
       "      <td>...</td>\n",
       "      <td>...</td>\n",
       "      <td>...</td>\n",
       "      <td>...</td>\n",
       "      <td>...</td>\n",
       "      <td>...</td>\n",
       "      <td>...</td>\n",
       "      <td>...</td>\n",
       "      <td>...</td>\n",
       "      <td>...</td>\n",
       "      <td>...</td>\n",
       "    </tr>\n",
       "    <tr>\n",
       "      <th>3207</th>\n",
       "      <td>1865681</td>\n",
       "      <td>0.00</td>\n",
       "      <td>0.00</td>\n",
       "      <td>0015-09-25 19:10:00</td>\n",
       "      <td>0015-09-25 19:11:08</td>\n",
       "      <td>19</td>\n",
       "      <td>19</td>\n",
       "      <td>0.018889</td>\n",
       "      <td>Fri</td>\n",
       "      <td>ios</td>\n",
       "      <td>...</td>\n",
       "      <td>1</td>\n",
       "      <td>3</td>\n",
       "      <td>0</td>\n",
       "      <td>0</td>\n",
       "      <td>0</td>\n",
       "      <td>0</td>\n",
       "      <td>1</td>\n",
       "      <td>0</td>\n",
       "      <td>0</td>\n",
       "      <td>1</td>\n",
       "    </tr>\n",
       "    <tr>\n",
       "      <th>3209</th>\n",
       "      <td>7155296</td>\n",
       "      <td>0.00</td>\n",
       "      <td>0.00</td>\n",
       "      <td>0015-10-02 19:16:23</td>\n",
       "      <td>0015-10-02 19:18:07</td>\n",
       "      <td>19</td>\n",
       "      <td>19</td>\n",
       "      <td>0.028889</td>\n",
       "      <td>Fri</td>\n",
       "      <td>ios</td>\n",
       "      <td>...</td>\n",
       "      <td>1</td>\n",
       "      <td>3</td>\n",
       "      <td>0</td>\n",
       "      <td>0</td>\n",
       "      <td>0</td>\n",
       "      <td>0</td>\n",
       "      <td>1</td>\n",
       "      <td>0</td>\n",
       "      <td>0</td>\n",
       "      <td>1</td>\n",
       "    </tr>\n",
       "    <tr>\n",
       "      <th>3210</th>\n",
       "      <td>7688636</td>\n",
       "      <td>0.00</td>\n",
       "      <td>0.00</td>\n",
       "      <td>0015-10-02 19:18:45</td>\n",
       "      <td>0015-10-02 19:20:08</td>\n",
       "      <td>19</td>\n",
       "      <td>19</td>\n",
       "      <td>0.023056</td>\n",
       "      <td>Fri</td>\n",
       "      <td>ios</td>\n",
       "      <td>...</td>\n",
       "      <td>1</td>\n",
       "      <td>3</td>\n",
       "      <td>0</td>\n",
       "      <td>0</td>\n",
       "      <td>0</td>\n",
       "      <td>0</td>\n",
       "      <td>1</td>\n",
       "      <td>0</td>\n",
       "      <td>0</td>\n",
       "      <td>1</td>\n",
       "    </tr>\n",
       "    <tr>\n",
       "      <th>3282</th>\n",
       "      <td>5181950</td>\n",
       "      <td>0.00</td>\n",
       "      <td>0.00</td>\n",
       "      <td>0015-09-23 11:02:55</td>\n",
       "      <td>0015-09-23 13:03:05</td>\n",
       "      <td>11</td>\n",
       "      <td>13</td>\n",
       "      <td>2.002778</td>\n",
       "      <td>Wed</td>\n",
       "      <td>ios</td>\n",
       "      <td>...</td>\n",
       "      <td>1</td>\n",
       "      <td>2</td>\n",
       "      <td>0</td>\n",
       "      <td>0</td>\n",
       "      <td>1</td>\n",
       "      <td>0</td>\n",
       "      <td>0</td>\n",
       "      <td>0</td>\n",
       "      <td>0</td>\n",
       "      <td>1</td>\n",
       "    </tr>\n",
       "    <tr>\n",
       "      <th>3286</th>\n",
       "      <td>7661889</td>\n",
       "      <td>0.00</td>\n",
       "      <td>0.00</td>\n",
       "      <td>0015-09-28 11:01:45</td>\n",
       "      <td>0015-09-28 11:03:06</td>\n",
       "      <td>11</td>\n",
       "      <td>11</td>\n",
       "      <td>0.022500</td>\n",
       "      <td>Mon</td>\n",
       "      <td>ios</td>\n",
       "      <td>...</td>\n",
       "      <td>1</td>\n",
       "      <td>2</td>\n",
       "      <td>1</td>\n",
       "      <td>0</td>\n",
       "      <td>0</td>\n",
       "      <td>0</td>\n",
       "      <td>0</td>\n",
       "      <td>0</td>\n",
       "      <td>0</td>\n",
       "      <td>1</td>\n",
       "    </tr>\n",
       "  </tbody>\n",
       "</table>\n",
       "<p>1065 rows × 24 columns</p>\n",
       "</div>"
      ],
      "text/plain": [
       "      sessionId  kwhTotal  dollars              created                ended  \\\n",
       "0       1366563      7.78     0.00  0014-11-18 15:40:26  0014-11-18 17:11:04   \n",
       "1       3075723      9.74     0.00  0014-11-19 17:40:26  0014-11-19 19:51:04   \n",
       "2       4228788      6.76     0.58  0014-11-21 12:05:46  0014-11-21 16:46:04   \n",
       "3       3173284      6.17     0.00  0014-12-03 19:16:12  0014-12-03 21:02:18   \n",
       "4       3266500      0.93     0.00  0014-12-11 20:56:11  0014-12-11 21:14:06   \n",
       "...         ...       ...      ...                  ...                  ...   \n",
       "3207    1865681      0.00     0.00  0015-09-25 19:10:00  0015-09-25 19:11:08   \n",
       "3209    7155296      0.00     0.00  0015-10-02 19:16:23  0015-10-02 19:18:07   \n",
       "3210    7688636      0.00     0.00  0015-10-02 19:18:45  0015-10-02 19:20:08   \n",
       "3282    5181950      0.00     0.00  0015-09-23 11:02:55  0015-09-23 13:03:05   \n",
       "3286    7661889      0.00     0.00  0015-09-28 11:01:45  0015-09-28 11:03:06   \n",
       "\n",
       "      startTime  endTime  chargeTimeHrs weekday platform  ...  managerVehicle  \\\n",
       "0            15       17       1.510556     Tue  android  ...               0   \n",
       "1            17       19       2.177222     Wed  android  ...               0   \n",
       "2            12       16       4.671667     Fri  android  ...               0   \n",
       "3            19       21       1.768333     Wed  android  ...               0   \n",
       "4            20       21       0.298611     Thu  android  ...               0   \n",
       "...         ...      ...            ...     ...      ...  ...             ...   \n",
       "3207         19       19       0.018889     Fri      ios  ...               1   \n",
       "3209         19       19       0.028889     Fri      ios  ...               1   \n",
       "3210         19       19       0.023056     Fri      ios  ...               1   \n",
       "3282         11       13       2.002778     Wed      ios  ...               1   \n",
       "3286         11       11       0.022500     Mon      ios  ...               1   \n",
       "\n",
       "      facilityType  Mon  Tues  Wed  Thurs  Fri  Sat  Sun  reportedZip  \n",
       "0                3    0     1    0      0    0    0    0            0  \n",
       "1                3    0     0    1      0    0    0    0            0  \n",
       "2                3    0     0    0      0    1    0    0            0  \n",
       "3                3    0     0    1      0    0    0    0            0  \n",
       "4                3    0     0    0      1    0    0    0            0  \n",
       "...            ...  ...   ...  ...    ...  ...  ...  ...          ...  \n",
       "3207             3    0     0    0      0    1    0    0            1  \n",
       "3209             3    0     0    0      0    1    0    0            1  \n",
       "3210             3    0     0    0      0    1    0    0            1  \n",
       "3282             2    0     0    1      0    0    0    0            1  \n",
       "3286             2    1     0    0      0    0    0    0            1  \n",
       "\n",
       "[1065 rows x 24 columns]"
      ]
     },
     "execution_count": 10,
     "metadata": {},
     "output_type": "execute_result"
    }
   ],
   "source": [
    "#display null values\n",
    "df[df.isnull().any(axis=1)]"
   ]
  },
  {
   "cell_type": "code",
   "execution_count": 11,
   "id": "ebeb26b7",
   "metadata": {
    "scrolled": true
   },
   "outputs": [
    {
     "name": "stdout",
     "output_type": "stream",
     "text": [
      "Duplicate entries found in this dataset = 0.\n"
     ]
    }
   ],
   "source": [
    "# Number of duplicate entries\n",
    "print('Duplicate entries found in this dataset = {}.' .format(df.duplicated().sum()))"
   ]
  },
  {
   "cell_type": "code",
   "execution_count": 12,
   "id": "41ecad31",
   "metadata": {},
   "outputs": [
    {
     "name": "stdout",
     "output_type": "stream",
     "text": [
      "There are 4 id variables\n",
      "There are 2 datetime variables\n",
      "There are 4 numerical variables\n",
      "There are 7 categorical variables\n",
      "There are 7 dummy variables\n"
     ]
    }
   ],
   "source": [
    "# Column distribution\n",
    "ids = ['sessionId','userId', 'stationId', 'locationId']\n",
    "numerical = ['kwhTotal', 'dollars', 'chargeTimeHrs', 'distance']\n",
    "datetime = ['created', 'ended']\n",
    "categorical = ['startTime', 'endTime', 'weekday', 'platform','managerVehicle', 'facilityType','reportedZip']\n",
    "\n",
    "print('There are {} id variables'.format(len(ids)))\n",
    "print('There are {} datetime variables'.format(len(datetime)))\n",
    "print('There are {} numerical variables'.format(len(numerical)))\n",
    "print('There are {} categorical variables'.format(len(categorical)))\n",
    "print('There are 7 dummy variables')"
   ]
  },
  {
   "cell_type": "code",
   "execution_count": 13,
   "id": "048d9cbb",
   "metadata": {},
   "outputs": [
    {
     "data": {
      "text/html": [
       "<div>\n",
       "<style scoped>\n",
       "    .dataframe tbody tr th:only-of-type {\n",
       "        vertical-align: middle;\n",
       "    }\n",
       "\n",
       "    .dataframe tbody tr th {\n",
       "        vertical-align: top;\n",
       "    }\n",
       "\n",
       "    .dataframe thead th {\n",
       "        text-align: right;\n",
       "    }\n",
       "</style>\n",
       "<table border=\"1\" class=\"dataframe\">\n",
       "  <thead>\n",
       "    <tr style=\"text-align: right;\">\n",
       "      <th></th>\n",
       "      <th>kwhTotal</th>\n",
       "      <th>dollars</th>\n",
       "      <th>chargeTimeHrs</th>\n",
       "      <th>distance</th>\n",
       "    </tr>\n",
       "  </thead>\n",
       "  <tbody>\n",
       "    <tr>\n",
       "      <th>count</th>\n",
       "      <td>3395.000000</td>\n",
       "      <td>3395.000000</td>\n",
       "      <td>3395.000000</td>\n",
       "      <td>2330.000000</td>\n",
       "    </tr>\n",
       "    <tr>\n",
       "      <th>mean</th>\n",
       "      <td>5.809629</td>\n",
       "      <td>0.118268</td>\n",
       "      <td>2.841488</td>\n",
       "      <td>18.652378</td>\n",
       "    </tr>\n",
       "    <tr>\n",
       "      <th>std</th>\n",
       "      <td>2.892727</td>\n",
       "      <td>0.492562</td>\n",
       "      <td>1.507472</td>\n",
       "      <td>11.420571</td>\n",
       "    </tr>\n",
       "    <tr>\n",
       "      <th>min</th>\n",
       "      <td>0.000000</td>\n",
       "      <td>0.000000</td>\n",
       "      <td>0.012500</td>\n",
       "      <td>0.856911</td>\n",
       "    </tr>\n",
       "    <tr>\n",
       "      <th>25%</th>\n",
       "      <td>4.350000</td>\n",
       "      <td>0.000000</td>\n",
       "      <td>2.110278</td>\n",
       "      <td>5.135871</td>\n",
       "    </tr>\n",
       "    <tr>\n",
       "      <th>50%</th>\n",
       "      <td>6.230000</td>\n",
       "      <td>0.000000</td>\n",
       "      <td>2.808889</td>\n",
       "      <td>21.023826</td>\n",
       "    </tr>\n",
       "    <tr>\n",
       "      <th>75%</th>\n",
       "      <td>6.830000</td>\n",
       "      <td>0.000000</td>\n",
       "      <td>3.544167</td>\n",
       "      <td>27.285053</td>\n",
       "    </tr>\n",
       "    <tr>\n",
       "      <th>max</th>\n",
       "      <td>23.680000</td>\n",
       "      <td>7.500000</td>\n",
       "      <td>55.238056</td>\n",
       "      <td>43.059292</td>\n",
       "    </tr>\n",
       "  </tbody>\n",
       "</table>\n",
       "</div>"
      ],
      "text/plain": [
       "          kwhTotal      dollars  chargeTimeHrs     distance\n",
       "count  3395.000000  3395.000000    3395.000000  2330.000000\n",
       "mean      5.809629     0.118268       2.841488    18.652378\n",
       "std       2.892727     0.492562       1.507472    11.420571\n",
       "min       0.000000     0.000000       0.012500     0.856911\n",
       "25%       4.350000     0.000000       2.110278     5.135871\n",
       "50%       6.230000     0.000000       2.808889    21.023826\n",
       "75%       6.830000     0.000000       3.544167    27.285053\n",
       "max      23.680000     7.500000      55.238056    43.059292"
      ]
     },
     "execution_count": 13,
     "metadata": {},
     "output_type": "execute_result"
    }
   ],
   "source": [
    "df[numerical].describe()"
   ]
  },
  {
   "cell_type": "raw",
   "id": "93475e90",
   "metadata": {},
   "source": [
    "The max for chargeTimeHrs is 55.2 (more than 2 days). This may be an outlier.\n",
    "There are 1065 missing values in \"distance\". No other columns have missing values."
   ]
  },
  {
   "cell_type": "markdown",
   "id": "6b30b114",
   "metadata": {},
   "source": [
    "### Total energy usage (Kwh) and Charge time"
   ]
  },
  {
   "cell_type": "code",
   "execution_count": 14,
   "id": "5f753d00",
   "metadata": {},
   "outputs": [],
   "source": [
    "df[\"chargeTimeMins\"] = df[\"chargeTimeHrs\"] * 60"
   ]
  },
  {
   "cell_type": "code",
   "execution_count": 15,
   "id": "3a7207a1",
   "metadata": {},
   "outputs": [
    {
     "data": {
      "text/plain": [
       "count     55.000000\n",
       "mean      27.340000\n",
       "std       72.045255\n",
       "min        0.750000\n",
       "25%        1.175000\n",
       "50%        1.416667\n",
       "75%        1.733333\n",
       "max      403.116667\n",
       "Name: chargeTimeMins, dtype: float64"
      ]
     },
     "execution_count": 15,
     "metadata": {},
     "output_type": "execute_result"
    }
   ],
   "source": [
    "df.query(\"kwhTotal == 0\").chargeTimeMins.describe()"
   ]
  },
  {
   "cell_type": "markdown",
   "id": "35e7e93f",
   "metadata": {},
   "source": [
    "55 sessions had 0 kwh charged. However, they all had non-zero charge times."
   ]
  },
  {
   "cell_type": "markdown",
   "id": "7c562da5",
   "metadata": {},
   "source": [
    "### Zero energy charged"
   ]
  },
  {
   "cell_type": "code",
   "execution_count": 16,
   "id": "3e703e3f",
   "metadata": {},
   "outputs": [
    {
     "data": {
      "text/html": [
       "<div>\n",
       "<style scoped>\n",
       "    .dataframe tbody tr th:only-of-type {\n",
       "        vertical-align: middle;\n",
       "    }\n",
       "\n",
       "    .dataframe tbody tr th {\n",
       "        vertical-align: top;\n",
       "    }\n",
       "\n",
       "    .dataframe thead th {\n",
       "        text-align: right;\n",
       "    }\n",
       "</style>\n",
       "<table border=\"1\" class=\"dataframe\">\n",
       "  <thead>\n",
       "    <tr style=\"text-align: right;\">\n",
       "      <th></th>\n",
       "      <th>sessionId</th>\n",
       "      <th>kwhTotal</th>\n",
       "      <th>dollars</th>\n",
       "      <th>created</th>\n",
       "      <th>ended</th>\n",
       "      <th>startTime</th>\n",
       "      <th>endTime</th>\n",
       "      <th>chargeTimeHrs</th>\n",
       "      <th>weekday</th>\n",
       "      <th>platform</th>\n",
       "      <th>...</th>\n",
       "      <th>facilityType</th>\n",
       "      <th>Mon</th>\n",
       "      <th>Tues</th>\n",
       "      <th>Wed</th>\n",
       "      <th>Thurs</th>\n",
       "      <th>Fri</th>\n",
       "      <th>Sat</th>\n",
       "      <th>Sun</th>\n",
       "      <th>reportedZip</th>\n",
       "      <th>chargeTimeMins</th>\n",
       "    </tr>\n",
       "  </thead>\n",
       "  <tbody>\n",
       "    <tr>\n",
       "      <th>1361</th>\n",
       "      <td>6319362</td>\n",
       "      <td>0.0</td>\n",
       "      <td>0.0</td>\n",
       "      <td>0015-04-01 11:33:20</td>\n",
       "      <td>0015-04-01 11:34:05</td>\n",
       "      <td>11</td>\n",
       "      <td>11</td>\n",
       "      <td>0.012500</td>\n",
       "      <td>Wed</td>\n",
       "      <td>ios</td>\n",
       "      <td>...</td>\n",
       "      <td>3</td>\n",
       "      <td>0</td>\n",
       "      <td>0</td>\n",
       "      <td>1</td>\n",
       "      <td>0</td>\n",
       "      <td>0</td>\n",
       "      <td>0</td>\n",
       "      <td>0</td>\n",
       "      <td>1</td>\n",
       "      <td>0.750000</td>\n",
       "    </tr>\n",
       "    <tr>\n",
       "      <th>2235</th>\n",
       "      <td>8585893</td>\n",
       "      <td>0.0</td>\n",
       "      <td>0.0</td>\n",
       "      <td>0015-10-01 11:08:22</td>\n",
       "      <td>0015-10-01 11:09:08</td>\n",
       "      <td>11</td>\n",
       "      <td>11</td>\n",
       "      <td>0.012778</td>\n",
       "      <td>Thu</td>\n",
       "      <td>android</td>\n",
       "      <td>...</td>\n",
       "      <td>2</td>\n",
       "      <td>0</td>\n",
       "      <td>0</td>\n",
       "      <td>0</td>\n",
       "      <td>1</td>\n",
       "      <td>0</td>\n",
       "      <td>0</td>\n",
       "      <td>0</td>\n",
       "      <td>0</td>\n",
       "      <td>0.766667</td>\n",
       "    </tr>\n",
       "    <tr>\n",
       "      <th>2234</th>\n",
       "      <td>4426355</td>\n",
       "      <td>0.0</td>\n",
       "      <td>0.0</td>\n",
       "      <td>0015-10-01 11:07:19</td>\n",
       "      <td>0015-10-01 11:08:07</td>\n",
       "      <td>11</td>\n",
       "      <td>11</td>\n",
       "      <td>0.013333</td>\n",
       "      <td>Thu</td>\n",
       "      <td>android</td>\n",
       "      <td>...</td>\n",
       "      <td>2</td>\n",
       "      <td>0</td>\n",
       "      <td>0</td>\n",
       "      <td>0</td>\n",
       "      <td>1</td>\n",
       "      <td>0</td>\n",
       "      <td>0</td>\n",
       "      <td>0</td>\n",
       "      <td>0</td>\n",
       "      <td>0.800000</td>\n",
       "    </tr>\n",
       "    <tr>\n",
       "      <th>379</th>\n",
       "      <td>5006104</td>\n",
       "      <td>0.0</td>\n",
       "      <td>0.0</td>\n",
       "      <td>0015-04-01 15:28:11</td>\n",
       "      <td>0015-04-01 15:29:04</td>\n",
       "      <td>15</td>\n",
       "      <td>15</td>\n",
       "      <td>0.014722</td>\n",
       "      <td>Wed</td>\n",
       "      <td>ios</td>\n",
       "      <td>...</td>\n",
       "      <td>3</td>\n",
       "      <td>0</td>\n",
       "      <td>0</td>\n",
       "      <td>1</td>\n",
       "      <td>0</td>\n",
       "      <td>0</td>\n",
       "      <td>0</td>\n",
       "      <td>0</td>\n",
       "      <td>1</td>\n",
       "      <td>0.883333</td>\n",
       "    </tr>\n",
       "    <tr>\n",
       "      <th>2236</th>\n",
       "      <td>5891728</td>\n",
       "      <td>0.0</td>\n",
       "      <td>0.0</td>\n",
       "      <td>0015-10-01 11:09:14</td>\n",
       "      <td>0015-10-01 11:10:08</td>\n",
       "      <td>11</td>\n",
       "      <td>11</td>\n",
       "      <td>0.015000</td>\n",
       "      <td>Thu</td>\n",
       "      <td>android</td>\n",
       "      <td>...</td>\n",
       "      <td>2</td>\n",
       "      <td>0</td>\n",
       "      <td>0</td>\n",
       "      <td>0</td>\n",
       "      <td>1</td>\n",
       "      <td>0</td>\n",
       "      <td>0</td>\n",
       "      <td>0</td>\n",
       "      <td>0</td>\n",
       "      <td>0.900000</td>\n",
       "    </tr>\n",
       "  </tbody>\n",
       "</table>\n",
       "<p>5 rows × 25 columns</p>\n",
       "</div>"
      ],
      "text/plain": [
       "      sessionId  kwhTotal  dollars              created                ended  \\\n",
       "1361    6319362       0.0      0.0  0015-04-01 11:33:20  0015-04-01 11:34:05   \n",
       "2235    8585893       0.0      0.0  0015-10-01 11:08:22  0015-10-01 11:09:08   \n",
       "2234    4426355       0.0      0.0  0015-10-01 11:07:19  0015-10-01 11:08:07   \n",
       "379     5006104       0.0      0.0  0015-04-01 15:28:11  0015-04-01 15:29:04   \n",
       "2236    5891728       0.0      0.0  0015-10-01 11:09:14  0015-10-01 11:10:08   \n",
       "\n",
       "      startTime  endTime  chargeTimeHrs weekday platform  ...  facilityType  \\\n",
       "1361         11       11       0.012500     Wed      ios  ...             3   \n",
       "2235         11       11       0.012778     Thu  android  ...             2   \n",
       "2234         11       11       0.013333     Thu  android  ...             2   \n",
       "379          15       15       0.014722     Wed      ios  ...             3   \n",
       "2236         11       11       0.015000     Thu  android  ...             2   \n",
       "\n",
       "      Mon  Tues  Wed  Thurs  Fri  Sat  Sun  reportedZip  chargeTimeMins  \n",
       "1361    0     0    1      0    0    0    0            1        0.750000  \n",
       "2235    0     0    0      1    0    0    0            0        0.766667  \n",
       "2234    0     0    0      1    0    0    0            0        0.800000  \n",
       "379     0     0    1      0    0    0    0            1        0.883333  \n",
       "2236    0     0    0      1    0    0    0            0        0.900000  \n",
       "\n",
       "[5 rows x 25 columns]"
      ]
     },
     "execution_count": 16,
     "metadata": {},
     "output_type": "execute_result"
    }
   ],
   "source": [
    "df_zero_charged = df.query(\"kwhTotal == 0\")\n",
    "df_zero_charged.sort_values(by='chargeTimeMins').head()"
   ]
  },
  {
   "cell_type": "code",
   "execution_count": 17,
   "id": "cd2d1aa8",
   "metadata": {
    "scrolled": false
   },
   "outputs": [
    {
     "data": {
      "image/png": "[encoded data removed]",
      "text/plain": [
       "<Figure size 640x480 with 1 Axes>"
      ]
     },
     "metadata": {},
     "output_type": "display_data"
    }
   ],
   "source": [
    "sns.histplot(df_zero_charged.query(\"chargeTimeMins < 5\").chargeTimeMins)\n",
    "plt.title(\"Zero energy charge sessions under 5 mins\")\n",
    "plt.xlabel('Charge Time (min)')\n",
    "plt.show()"
   ]
  },
  {
   "cell_type": "code",
   "execution_count": 18,
   "id": "1c2b6087",
   "metadata": {},
   "outputs": [
    {
     "data": {
      "text/plain": [
       "44"
      ]
     },
     "execution_count": 18,
     "metadata": {},
     "output_type": "execute_result"
    }
   ],
   "source": [
    "len(df_zero_charged.query(\"chargeTimeMins < 5\"))"
   ]
  },
  {
   "cell_type": "raw",
   "id": "9cac8b96",
   "metadata": {},
   "source": [
    "Focusing on the zero charged sessions with charge times under 30 minutes, there are 44 sessions are under 5 minutes. These could be attributed to people changing their mind about charging and unplugging.\n",
    "The remaining 11 sessions with zero charge may be due to a charging error - either on the car side or the charger side."
   ]
  },
  {
   "cell_type": "markdown",
   "id": "ab36769f",
   "metadata": {},
   "source": [
    "### Total energy usage (Kwh)"
   ]
  },
  {
   "cell_type": "code",
   "execution_count": 19,
   "id": "de67b055",
   "metadata": {},
   "outputs": [
    {
     "name": "stdout",
     "output_type": "stream",
     "text": [
      "5.809628865979382\n",
      "6.23\n"
     ]
    }
   ],
   "source": [
    "print(df.kwhTotal.mean())\n",
    "print(df.kwhTotal.median())"
   ]
  },
  {
   "cell_type": "markdown",
   "id": "bf28d55f",
   "metadata": {},
   "source": [
    "The mean kilowatt hours charged was 5.8. The median kilowatt hours charged was 6.2."
   ]
  },
  {
   "cell_type": "code",
   "execution_count": 20,
   "id": "0e424d70",
   "metadata": {},
   "outputs": [
    {
     "name": "stdout",
     "output_type": "stream",
     "text": [
      "5.905296407185628\n",
      "6.28\n"
     ]
    }
   ],
   "source": [
    "df_clean = df.drop(df[df['kwhTotal'] == 0].index)\n",
    "print(df_clean.kwhTotal.mean())\n",
    "print(df_clean.kwhTotal.median())"
   ]
  },
  {
   "cell_type": "raw",
   "id": "416ebfe3",
   "metadata": {},
   "source": [
    "We dropped the sessions with 0 kwh charged for the clean dataframe. It doesn't change the mean or median very much."
   ]
  },
  {
   "cell_type": "code",
   "execution_count": 21,
   "id": "34f36cef",
   "metadata": {},
   "outputs": [
    {
     "data": {
      "image/png": "[encoded data removed]",
      "text/plain": [
       "<Figure size 640x480 with 1 Axes>"
      ]
     },
     "metadata": {},
     "output_type": "display_data"
    }
   ],
   "source": [
    "sns.histplot(df_clean.kwhTotal, binwidth=1).set(title=\"Total Energy Used (kwh)\");"
   ]
  },
  {
   "cell_type": "markdown",
   "id": "ab5ccd54",
   "metadata": {},
   "source": [
    "The most common amount charged was 5-6 kilowatt hours."
   ]
  },
  {
   "cell_type": "markdown",
   "id": "74a4544b",
   "metadata": {},
   "source": [
    "### Charge Time"
   ]
  },
  {
   "cell_type": "code",
   "execution_count": 22,
   "id": "de78552b",
   "metadata": {},
   "outputs": [
    {
     "data": {
      "image/png": "[encoded data removed]",
      "text/plain": [
       "<Figure size 640x480 with 1 Axes>"
      ]
     },
     "metadata": {},
     "output_type": "display_data"
    }
   ],
   "source": [
    "sns.histplot(df_clean.chargeTimeHrs).set(title=\"Charge Time (hrs)\");"
   ]
  },
  {
   "cell_type": "code",
   "execution_count": 23,
   "id": "95f997e1",
   "metadata": {},
   "outputs": [
    {
     "data": {
      "text/html": [
       "<div>\n",
       "<style scoped>\n",
       "    .dataframe tbody tr th:only-of-type {\n",
       "        vertical-align: middle;\n",
       "    }\n",
       "\n",
       "    .dataframe tbody tr th {\n",
       "        vertical-align: top;\n",
       "    }\n",
       "\n",
       "    .dataframe thead th {\n",
       "        text-align: right;\n",
       "    }\n",
       "</style>\n",
       "<table border=\"1\" class=\"dataframe\">\n",
       "  <thead>\n",
       "    <tr style=\"text-align: right;\">\n",
       "      <th></th>\n",
       "      <th>sessionId</th>\n",
       "      <th>kwhTotal</th>\n",
       "      <th>dollars</th>\n",
       "      <th>created</th>\n",
       "      <th>ended</th>\n",
       "      <th>startTime</th>\n",
       "      <th>endTime</th>\n",
       "      <th>chargeTimeHrs</th>\n",
       "      <th>weekday</th>\n",
       "      <th>platform</th>\n",
       "      <th>...</th>\n",
       "      <th>facilityType</th>\n",
       "      <th>Mon</th>\n",
       "      <th>Tues</th>\n",
       "      <th>Wed</th>\n",
       "      <th>Thurs</th>\n",
       "      <th>Fri</th>\n",
       "      <th>Sat</th>\n",
       "      <th>Sun</th>\n",
       "      <th>reportedZip</th>\n",
       "      <th>chargeTimeMins</th>\n",
       "    </tr>\n",
       "  </thead>\n",
       "  <tbody>\n",
       "    <tr>\n",
       "      <th>173</th>\n",
       "      <td>2162299</td>\n",
       "      <td>4.10</td>\n",
       "      <td>0.83</td>\n",
       "      <td>0015-01-26 18:09:47</td>\n",
       "      <td>0015-01-29 01:24:04</td>\n",
       "      <td>18</td>\n",
       "      <td>1</td>\n",
       "      <td>55.238056</td>\n",
       "      <td>Mon</td>\n",
       "      <td>ios</td>\n",
       "      <td>...</td>\n",
       "      <td>4</td>\n",
       "      <td>1</td>\n",
       "      <td>0</td>\n",
       "      <td>0</td>\n",
       "      <td>0</td>\n",
       "      <td>0</td>\n",
       "      <td>0</td>\n",
       "      <td>0</td>\n",
       "      <td>0</td>\n",
       "      <td>3314.283334</td>\n",
       "    </tr>\n",
       "    <tr>\n",
       "      <th>2523</th>\n",
       "      <td>1654818</td>\n",
       "      <td>7.23</td>\n",
       "      <td>6.42</td>\n",
       "      <td>0015-06-10 10:42:47</td>\n",
       "      <td>0015-06-10 21:12:05</td>\n",
       "      <td>10</td>\n",
       "      <td>21</td>\n",
       "      <td>10.488333</td>\n",
       "      <td>Wed</td>\n",
       "      <td>ios</td>\n",
       "      <td>...</td>\n",
       "      <td>3</td>\n",
       "      <td>0</td>\n",
       "      <td>0</td>\n",
       "      <td>1</td>\n",
       "      <td>0</td>\n",
       "      <td>0</td>\n",
       "      <td>0</td>\n",
       "      <td>0</td>\n",
       "      <td>1</td>\n",
       "      <td>629.300000</td>\n",
       "    </tr>\n",
       "    <tr>\n",
       "      <th>2553</th>\n",
       "      <td>4089662</td>\n",
       "      <td>7.05</td>\n",
       "      <td>7.50</td>\n",
       "      <td>0015-08-26 10:56:52</td>\n",
       "      <td>0015-08-26 22:32:05</td>\n",
       "      <td>10</td>\n",
       "      <td>22</td>\n",
       "      <td>11.586944</td>\n",
       "      <td>Wed</td>\n",
       "      <td>ios</td>\n",
       "      <td>...</td>\n",
       "      <td>3</td>\n",
       "      <td>0</td>\n",
       "      <td>0</td>\n",
       "      <td>1</td>\n",
       "      <td>0</td>\n",
       "      <td>0</td>\n",
       "      <td>0</td>\n",
       "      <td>0</td>\n",
       "      <td>1</td>\n",
       "      <td>695.216666</td>\n",
       "    </tr>\n",
       "  </tbody>\n",
       "</table>\n",
       "<p>3 rows × 25 columns</p>\n",
       "</div>"
      ],
      "text/plain": [
       "      sessionId  kwhTotal  dollars              created                ended  \\\n",
       "173     2162299      4.10     0.83  0015-01-26 18:09:47  0015-01-29 01:24:04   \n",
       "2523    1654818      7.23     6.42  0015-06-10 10:42:47  0015-06-10 21:12:05   \n",
       "2553    4089662      7.05     7.50  0015-08-26 10:56:52  0015-08-26 22:32:05   \n",
       "\n",
       "      startTime  endTime  chargeTimeHrs weekday platform  ...  facilityType  \\\n",
       "173          18        1      55.238056     Mon      ios  ...             4   \n",
       "2523         10       21      10.488333     Wed      ios  ...             3   \n",
       "2553         10       22      11.586944     Wed      ios  ...             3   \n",
       "\n",
       "      Mon  Tues  Wed  Thurs  Fri  Sat  Sun  reportedZip  chargeTimeMins  \n",
       "173     1     0    0      0    0    0    0            0     3314.283334  \n",
       "2523    0     0    1      0    0    0    0            1      629.300000  \n",
       "2553    0     0    1      0    0    0    0            1      695.216666  \n",
       "\n",
       "[3 rows x 25 columns]"
      ]
     },
     "execution_count": 23,
     "metadata": {},
     "output_type": "execute_result"
    }
   ],
   "source": [
    "df_clean.query(\"chargeTimeHrs > 10\")"
   ]
  },
  {
   "cell_type": "code",
   "execution_count": 24,
   "id": "1dfa0cf6",
   "metadata": {},
   "outputs": [
    {
     "data": {
      "image/png": "[encoded data removed]",
      "text/plain": [
       "<Figure size 640x480 with 1 Axes>"
      ]
     },
     "metadata": {},
     "output_type": "display_data"
    }
   ],
   "source": [
    "# Drop charge times greater than 24\n",
    "df_clean.drop(df_clean[df_clean['chargeTimeHrs'] > 24].index, inplace=True)\n",
    "sns.histplot(df_clean.chargeTimeHrs, binwidth=1).set(title=\"Total Energy Used (kwh) - cleaned\");"
   ]
  },
  {
   "cell_type": "code",
   "execution_count": 25,
   "id": "677caa00",
   "metadata": {},
   "outputs": [
    {
     "name": "stdout",
     "output_type": "stream",
     "text": [
      "2.8650945891943693\n",
      "2.826666667\n"
     ]
    }
   ],
   "source": [
    "print(df_clean.chargeTimeHrs.mean())\n",
    "print(df_clean.chargeTimeHrs.median())"
   ]
  },
  {
   "cell_type": "raw",
   "id": "d1c24f1f",
   "metadata": {},
   "source": [
    "The distribution of the charge times is roughly normal with a mean of 2.86 hours and median of 2.82.\n",
    "The record with the max charge time of 55.2 hours was dropped. Given that these were workplaces chargers, it is odd that a vehicle was plugged in for over 2 days starting on a Wednesday. Perhaps it was a work vehicle."
   ]
  },
  {
   "cell_type": "markdown",
   "id": "152d7f7a",
   "metadata": {},
   "source": [
    "### Facility Type"
   ]
  },
  {
   "cell_type": "code",
   "execution_count": 26,
   "id": "9f0d48ca",
   "metadata": {},
   "outputs": [
    {
     "name": "stdout",
     "output_type": "stream",
     "text": [
      "3    1832\n",
      "2     862\n",
      "1     593\n",
      "4     108\n",
      "Name: facilityType, dtype: int64\n",
      "3395\n"
     ]
    }
   ],
   "source": [
    "print(df.facilityType.value_counts())\n",
    "print(df.shape[0])"
   ]
  },
  {
   "cell_type": "code",
   "execution_count": 27,
   "id": "0e41fcb7",
   "metadata": {
    "scrolled": false
   },
   "outputs": [
    {
     "data": {
      "image/png": "[encoded data removed]",
      "text/plain": [
       "<Figure size 640x480 with 1 Axes>"
      ]
     },
     "metadata": {},
     "output_type": "display_data"
    }
   ],
   "source": [
    "facility_types = {\"manufacturing\":1, \"office\":2, \"research and \\ndevelopment\":3, \"other\":4}\n",
    "df.facilityType.value_counts().plot.pie(y='facilityType', labels = facility_types, autopct='%.0f%%', title='Facility Type')\n",
    "plt.show()"
   ]
  },
  {
   "cell_type": "markdown",
   "id": "b72c1d1a",
   "metadata": {},
   "source": [
    "\"manufacturing\" was the most common facility type at 54% of the sessions."
   ]
  },
  {
   "cell_type": "markdown",
   "id": "11de74a4",
   "metadata": {},
   "source": [
    "### Amount Paid by User (dollars)"
   ]
  },
  {
   "cell_type": "code",
   "execution_count": 28,
   "id": "4f8b10da",
   "metadata": {},
   "outputs": [
    {
     "name": "stdout",
     "output_type": "stream",
     "text": [
      "3016\n",
      "0.8883652430044182\n"
     ]
    }
   ],
   "source": [
    "print(df.query(\"dollars == 0.0\").dollars.count())\n",
    "print(df.query(\"dollars == 0.0\").dollars.count() / df.shape[0])"
   ]
  },
  {
   "cell_type": "code",
   "execution_count": 29,
   "id": "4b0d88ec",
   "metadata": {},
   "outputs": [],
   "source": [
    "# Add a new categoric variable, free, for sessions with zero dollars\n",
    "df_clean['free'] = df_clean['dollars'] == 0\n",
    "\n",
    "# Drop rows where the total energy was zero but have non-zero dollars\n",
    "df_clean.drop(df_clean[(df_clean['kwhTotal'] == 0) & (df_clean['dollars'] > 0.0)].index, inplace=True)"
   ]
  },
  {
   "cell_type": "code",
   "execution_count": 30,
   "id": "d2428b36",
   "metadata": {},
   "outputs": [
    {
     "data": {
      "text/plain": [
       "count    377.000000\n",
       "mean       1.055756\n",
       "std        1.085323\n",
       "min        0.500000\n",
       "25%        0.500000\n",
       "50%        0.500000\n",
       "75%        1.170000\n",
       "max        7.500000\n",
       "Name: dollars, dtype: float64"
      ]
     },
     "execution_count": 30,
     "metadata": {},
     "output_type": "execute_result"
    }
   ],
   "source": [
    "df_clean.query(\"free == False\").dollars.describe()"
   ]
  },
  {
   "cell_type": "markdown",
   "id": "38059ef7",
   "metadata": {},
   "source": [
    "88.8% of sessions were free. The average amount paid for non-free sessions was $1.06."
   ]
  },
  {
   "cell_type": "code",
   "execution_count": 31,
   "id": "07bb00ac",
   "metadata": {},
   "outputs": [
    {
     "data": {
      "image/png": "[encoded data removed]",
      "text/plain": [
       "<Figure size 640x480 with 1 Axes>"
      ]
     },
     "metadata": {},
     "output_type": "display_data"
    }
   ],
   "source": [
    "sns.histplot(df_clean.query(\"free == False\").dollars, binwidth=1).set(title=\"Cost (dollars)\");"
   ]
  },
  {
   "cell_type": "code",
   "execution_count": 32,
   "id": "f2d91c09",
   "metadata": {},
   "outputs": [
    {
     "data": {
      "text/html": [
       "<div>\n",
       "<style scoped>\n",
       "    .dataframe tbody tr th:only-of-type {\n",
       "        vertical-align: middle;\n",
       "    }\n",
       "\n",
       "    .dataframe tbody tr th {\n",
       "        vertical-align: top;\n",
       "    }\n",
       "\n",
       "    .dataframe thead th {\n",
       "        text-align: right;\n",
       "    }\n",
       "</style>\n",
       "<table border=\"1\" class=\"dataframe\">\n",
       "  <thead>\n",
       "    <tr style=\"text-align: right;\">\n",
       "      <th></th>\n",
       "      <th>sessionId</th>\n",
       "      <th>kwhTotal</th>\n",
       "      <th>dollars</th>\n",
       "      <th>created</th>\n",
       "      <th>ended</th>\n",
       "      <th>startTime</th>\n",
       "      <th>endTime</th>\n",
       "      <th>chargeTimeHrs</th>\n",
       "      <th>weekday</th>\n",
       "      <th>platform</th>\n",
       "      <th>...</th>\n",
       "      <th>Tues</th>\n",
       "      <th>Wed</th>\n",
       "      <th>Thurs</th>\n",
       "      <th>Fri</th>\n",
       "      <th>Sat</th>\n",
       "      <th>Sun</th>\n",
       "      <th>reportedZip</th>\n",
       "      <th>chargeTimeMins</th>\n",
       "      <th>free</th>\n",
       "      <th>cost_per_kwh</th>\n",
       "    </tr>\n",
       "  </thead>\n",
       "  <tbody>\n",
       "    <tr>\n",
       "      <th>972</th>\n",
       "      <td>4926737</td>\n",
       "      <td>23.68</td>\n",
       "      <td>0.50</td>\n",
       "      <td>0015-10-03 07:18:43</td>\n",
       "      <td>0015-10-03 11:25:07</td>\n",
       "      <td>7</td>\n",
       "      <td>11</td>\n",
       "      <td>4.106667</td>\n",
       "      <td>Sat</td>\n",
       "      <td>android</td>\n",
       "      <td>...</td>\n",
       "      <td>0</td>\n",
       "      <td>0</td>\n",
       "      <td>0</td>\n",
       "      <td>0</td>\n",
       "      <td>1</td>\n",
       "      <td>0</td>\n",
       "      <td>0</td>\n",
       "      <td>246.400000</td>\n",
       "      <td>False</td>\n",
       "      <td>0.021115</td>\n",
       "    </tr>\n",
       "    <tr>\n",
       "      <th>962</th>\n",
       "      <td>2473111</td>\n",
       "      <td>21.14</td>\n",
       "      <td>0.50</td>\n",
       "      <td>0015-09-09 13:59:02</td>\n",
       "      <td>0015-09-09 18:28:11</td>\n",
       "      <td>13</td>\n",
       "      <td>18</td>\n",
       "      <td>4.485833</td>\n",
       "      <td>Wed</td>\n",
       "      <td>android</td>\n",
       "      <td>...</td>\n",
       "      <td>0</td>\n",
       "      <td>1</td>\n",
       "      <td>0</td>\n",
       "      <td>0</td>\n",
       "      <td>0</td>\n",
       "      <td>0</td>\n",
       "      <td>0</td>\n",
       "      <td>269.150000</td>\n",
       "      <td>False</td>\n",
       "      <td>0.023652</td>\n",
       "    </tr>\n",
       "    <tr>\n",
       "      <th>1914</th>\n",
       "      <td>8900391</td>\n",
       "      <td>20.38</td>\n",
       "      <td>0.50</td>\n",
       "      <td>0015-07-24 16:55:36</td>\n",
       "      <td>0015-07-24 21:18:06</td>\n",
       "      <td>16</td>\n",
       "      <td>21</td>\n",
       "      <td>4.375000</td>\n",
       "      <td>Fri</td>\n",
       "      <td>ios</td>\n",
       "      <td>...</td>\n",
       "      <td>0</td>\n",
       "      <td>0</td>\n",
       "      <td>0</td>\n",
       "      <td>1</td>\n",
       "      <td>0</td>\n",
       "      <td>0</td>\n",
       "      <td>1</td>\n",
       "      <td>262.500000</td>\n",
       "      <td>False</td>\n",
       "      <td>0.024534</td>\n",
       "    </tr>\n",
       "    <tr>\n",
       "      <th>546</th>\n",
       "      <td>5957528</td>\n",
       "      <td>19.06</td>\n",
       "      <td>0.50</td>\n",
       "      <td>0015-07-07 10:53:15</td>\n",
       "      <td>0015-07-07 15:23:06</td>\n",
       "      <td>10</td>\n",
       "      <td>15</td>\n",
       "      <td>4.497500</td>\n",
       "      <td>Tue</td>\n",
       "      <td>ios</td>\n",
       "      <td>...</td>\n",
       "      <td>1</td>\n",
       "      <td>0</td>\n",
       "      <td>0</td>\n",
       "      <td>0</td>\n",
       "      <td>0</td>\n",
       "      <td>0</td>\n",
       "      <td>0</td>\n",
       "      <td>269.850000</td>\n",
       "      <td>False</td>\n",
       "      <td>0.026233</td>\n",
       "    </tr>\n",
       "    <tr>\n",
       "      <th>1954</th>\n",
       "      <td>4895703</td>\n",
       "      <td>18.58</td>\n",
       "      <td>0.50</td>\n",
       "      <td>0015-10-01 12:34:24</td>\n",
       "      <td>0015-10-01 16:45:09</td>\n",
       "      <td>12</td>\n",
       "      <td>16</td>\n",
       "      <td>4.179167</td>\n",
       "      <td>Thu</td>\n",
       "      <td>ios</td>\n",
       "      <td>...</td>\n",
       "      <td>0</td>\n",
       "      <td>0</td>\n",
       "      <td>1</td>\n",
       "      <td>0</td>\n",
       "      <td>0</td>\n",
       "      <td>0</td>\n",
       "      <td>1</td>\n",
       "      <td>250.750000</td>\n",
       "      <td>False</td>\n",
       "      <td>0.026911</td>\n",
       "    </tr>\n",
       "    <tr>\n",
       "      <th>...</th>\n",
       "      <td>...</td>\n",
       "      <td>...</td>\n",
       "      <td>...</td>\n",
       "      <td>...</td>\n",
       "      <td>...</td>\n",
       "      <td>...</td>\n",
       "      <td>...</td>\n",
       "      <td>...</td>\n",
       "      <td>...</td>\n",
       "      <td>...</td>\n",
       "      <td>...</td>\n",
       "      <td>...</td>\n",
       "      <td>...</td>\n",
       "      <td>...</td>\n",
       "      <td>...</td>\n",
       "      <td>...</td>\n",
       "      <td>...</td>\n",
       "      <td>...</td>\n",
       "      <td>...</td>\n",
       "      <td>...</td>\n",
       "      <td>...</td>\n",
       "    </tr>\n",
       "    <tr>\n",
       "      <th>2553</th>\n",
       "      <td>4089662</td>\n",
       "      <td>7.05</td>\n",
       "      <td>7.50</td>\n",
       "      <td>0015-08-26 10:56:52</td>\n",
       "      <td>0015-08-26 22:32:05</td>\n",
       "      <td>10</td>\n",
       "      <td>22</td>\n",
       "      <td>11.586944</td>\n",
       "      <td>Wed</td>\n",
       "      <td>ios</td>\n",
       "      <td>...</td>\n",
       "      <td>0</td>\n",
       "      <td>1</td>\n",
       "      <td>0</td>\n",
       "      <td>0</td>\n",
       "      <td>0</td>\n",
       "      <td>0</td>\n",
       "      <td>1</td>\n",
       "      <td>695.216666</td>\n",
       "      <td>False</td>\n",
       "      <td>1.063830</td>\n",
       "    </tr>\n",
       "    <tr>\n",
       "      <th>2550</th>\n",
       "      <td>6049068</td>\n",
       "      <td>0.44</td>\n",
       "      <td>0.50</td>\n",
       "      <td>0015-08-14 16:28:24</td>\n",
       "      <td>0015-08-14 20:41:06</td>\n",
       "      <td>16</td>\n",
       "      <td>20</td>\n",
       "      <td>4.211667</td>\n",
       "      <td>Fri</td>\n",
       "      <td>ios</td>\n",
       "      <td>...</td>\n",
       "      <td>0</td>\n",
       "      <td>0</td>\n",
       "      <td>0</td>\n",
       "      <td>1</td>\n",
       "      <td>0</td>\n",
       "      <td>0</td>\n",
       "      <td>1</td>\n",
       "      <td>252.700000</td>\n",
       "      <td>False</td>\n",
       "      <td>1.136364</td>\n",
       "    </tr>\n",
       "    <tr>\n",
       "      <th>3188</th>\n",
       "      <td>6424674</td>\n",
       "      <td>2.39</td>\n",
       "      <td>3.25</td>\n",
       "      <td>0015-09-23 15:30:20</td>\n",
       "      <td>0015-09-23 22:46:07</td>\n",
       "      <td>15</td>\n",
       "      <td>22</td>\n",
       "      <td>7.263056</td>\n",
       "      <td>Wed</td>\n",
       "      <td>android</td>\n",
       "      <td>...</td>\n",
       "      <td>0</td>\n",
       "      <td>1</td>\n",
       "      <td>0</td>\n",
       "      <td>0</td>\n",
       "      <td>0</td>\n",
       "      <td>0</td>\n",
       "      <td>1</td>\n",
       "      <td>435.783333</td>\n",
       "      <td>False</td>\n",
       "      <td>1.359833</td>\n",
       "    </tr>\n",
       "    <tr>\n",
       "      <th>2271</th>\n",
       "      <td>2118272</td>\n",
       "      <td>0.21</td>\n",
       "      <td>0.50</td>\n",
       "      <td>0015-08-13 10:29:48</td>\n",
       "      <td>0015-08-13 14:42:07</td>\n",
       "      <td>10</td>\n",
       "      <td>14</td>\n",
       "      <td>4.205278</td>\n",
       "      <td>Thu</td>\n",
       "      <td>ios</td>\n",
       "      <td>...</td>\n",
       "      <td>0</td>\n",
       "      <td>0</td>\n",
       "      <td>1</td>\n",
       "      <td>0</td>\n",
       "      <td>0</td>\n",
       "      <td>0</td>\n",
       "      <td>1</td>\n",
       "      <td>252.316667</td>\n",
       "      <td>False</td>\n",
       "      <td>2.380952</td>\n",
       "    </tr>\n",
       "    <tr>\n",
       "      <th>2512</th>\n",
       "      <td>5850639</td>\n",
       "      <td>1.02</td>\n",
       "      <td>2.50</td>\n",
       "      <td>0015-06-01 11:03:50</td>\n",
       "      <td>0015-06-01 17:27:04</td>\n",
       "      <td>11</td>\n",
       "      <td>17</td>\n",
       "      <td>6.387222</td>\n",
       "      <td>Mon</td>\n",
       "      <td>ios</td>\n",
       "      <td>...</td>\n",
       "      <td>0</td>\n",
       "      <td>0</td>\n",
       "      <td>0</td>\n",
       "      <td>0</td>\n",
       "      <td>0</td>\n",
       "      <td>0</td>\n",
       "      <td>1</td>\n",
       "      <td>383.233333</td>\n",
       "      <td>False</td>\n",
       "      <td>2.450980</td>\n",
       "    </tr>\n",
       "  </tbody>\n",
       "</table>\n",
       "<p>377 rows × 27 columns</p>\n",
       "</div>"
      ],
      "text/plain": [
       "      sessionId  kwhTotal  dollars              created                ended  \\\n",
       "972     4926737     23.68     0.50  0015-10-03 07:18:43  0015-10-03 11:25:07   \n",
       "962     2473111     21.14     0.50  0015-09-09 13:59:02  0015-09-09 18:28:11   \n",
       "1914    8900391     20.38     0.50  0015-07-24 16:55:36  0015-07-24 21:18:06   \n",
       "546     5957528     19.06     0.50  0015-07-07 10:53:15  0015-07-07 15:23:06   \n",
       "1954    4895703     18.58     0.50  0015-10-01 12:34:24  0015-10-01 16:45:09   \n",
       "...         ...       ...      ...                  ...                  ...   \n",
       "2553    4089662      7.05     7.50  0015-08-26 10:56:52  0015-08-26 22:32:05   \n",
       "2550    6049068      0.44     0.50  0015-08-14 16:28:24  0015-08-14 20:41:06   \n",
       "3188    6424674      2.39     3.25  0015-09-23 15:30:20  0015-09-23 22:46:07   \n",
       "2271    2118272      0.21     0.50  0015-08-13 10:29:48  0015-08-13 14:42:07   \n",
       "2512    5850639      1.02     2.50  0015-06-01 11:03:50  0015-06-01 17:27:04   \n",
       "\n",
       "      startTime  endTime  chargeTimeHrs weekday platform  ...  Tues  Wed  \\\n",
       "972           7       11       4.106667     Sat  android  ...     0    0   \n",
       "962          13       18       4.485833     Wed  android  ...     0    1   \n",
       "1914         16       21       4.375000     Fri      ios  ...     0    0   \n",
       "546          10       15       4.497500     Tue      ios  ...     1    0   \n",
       "1954         12       16       4.179167     Thu      ios  ...     0    0   \n",
       "...         ...      ...            ...     ...      ...  ...   ...  ...   \n",
       "2553         10       22      11.586944     Wed      ios  ...     0    1   \n",
       "2550         16       20       4.211667     Fri      ios  ...     0    0   \n",
       "3188         15       22       7.263056     Wed  android  ...     0    1   \n",
       "2271         10       14       4.205278     Thu      ios  ...     0    0   \n",
       "2512         11       17       6.387222     Mon      ios  ...     0    0   \n",
       "\n",
       "      Thurs  Fri  Sat  Sun  reportedZip  chargeTimeMins   free  cost_per_kwh  \n",
       "972       0    0    1    0            0      246.400000  False      0.021115  \n",
       "962       0    0    0    0            0      269.150000  False      0.023652  \n",
       "1914      0    1    0    0            1      262.500000  False      0.024534  \n",
       "546       0    0    0    0            0      269.850000  False      0.026233  \n",
       "1954      1    0    0    0            1      250.750000  False      0.026911  \n",
       "...     ...  ...  ...  ...          ...             ...    ...           ...  \n",
       "2553      0    0    0    0            1      695.216666  False      1.063830  \n",
       "2550      0    1    0    0            1      252.700000  False      1.136364  \n",
       "3188      0    0    0    0            1      435.783333  False      1.359833  \n",
       "2271      1    0    0    0            1      252.316667  False      2.380952  \n",
       "2512      0    0    0    0            1      383.233333  False      2.450980  \n",
       "\n",
       "[377 rows x 27 columns]"
      ]
     },
     "execution_count": 32,
     "metadata": {},
     "output_type": "execute_result"
    }
   ],
   "source": [
    "df_clean['cost_per_kwh'] = df['dollars'] / df['kwhTotal']\n",
    "df_clean.replace([np.inf, -np.inf], 0, inplace=True)\n",
    "df_clean.query(\"free == False\").sort_values(by=\"cost_per_kwh\")"
   ]
  },
  {
   "cell_type": "code",
   "execution_count": 33,
   "id": "d59c4999",
   "metadata": {},
   "outputs": [
    {
     "data": {
      "text/plain": [
       "count    377.000000\n",
       "mean       0.193957\n",
       "std        0.251933\n",
       "min        0.021115\n",
       "25%        0.074963\n",
       "50%        0.102041\n",
       "75%        0.206096\n",
       "max        2.450980\n",
       "Name: cost_per_kwh, dtype: float64"
      ]
     },
     "execution_count": 33,
     "metadata": {},
     "output_type": "execute_result"
    }
   ],
   "source": [
    "df_clean.query(\"free == False\").cost_per_kwh.describe()"
   ]
  },
  {
   "cell_type": "markdown",
   "id": "9159b83b",
   "metadata": {},
   "source": [
    "For the paid sessions, that average cost per kilowatt hour was 19 cents."
   ]
  },
  {
   "cell_type": "markdown",
   "id": "c89a4db6",
   "metadata": {},
   "source": [
    "### Day of the week"
   ]
  },
  {
   "cell_type": "code",
   "execution_count": 34,
   "id": "f7d87d38",
   "metadata": {},
   "outputs": [
    {
     "data": {
      "image/png": "[encoded data removed]",
      "text/plain": [
       "<Figure size 500x500 with 1 Axes>"
      ]
     },
     "metadata": {},
     "output_type": "display_data"
    }
   ],
   "source": [
    "sns.catplot(df, x=\"weekday\", kind=\"count\", order=['Mon','Tue','Wed','Thu','Fri','Sat','Sun']).set(title=\"Day of the Week\")\n",
    "plt.show()"
   ]
  },
  {
   "cell_type": "raw",
   "id": "f3c98795",
   "metadata": {},
   "source": [
    "Charging seems to be mostly on weekday. This is unsurprising given that these are workplace chargers.\n",
    "Charging did happen on the weekends.\n",
    "Thursday had the most number of charge sessions."
   ]
  },
  {
   "cell_type": "markdown",
   "id": "44bd43ff",
   "metadata": {},
   "source": [
    "### Platform"
   ]
  },
  {
   "cell_type": "code",
   "execution_count": 35,
   "id": "1466d48c",
   "metadata": {},
   "outputs": [
    {
     "data": {
      "text/plain": [
       "ios        2234\n",
       "android    1155\n",
       "web           6\n",
       "Name: platform, dtype: int64"
      ]
     },
     "execution_count": 35,
     "metadata": {},
     "output_type": "execute_result"
    }
   ],
   "source": [
    "df.platform.value_counts()"
   ]
  },
  {
   "cell_type": "code",
   "execution_count": 36,
   "id": "4486a602",
   "metadata": {},
   "outputs": [
    {
     "data": {
      "image/png": "[encoded data removed]",
      "text/plain": [
       "<Figure size 640x480 with 1 Axes>"
      ]
     },
     "metadata": {},
     "output_type": "display_data"
    }
   ],
   "source": [
    "df.platform.value_counts().plot(kind='pie', autopct='%.1f%%', title=\"Platform\");"
   ]
  },
  {
   "cell_type": "raw",
   "id": "701e3a07",
   "metadata": {},
   "source": [
    "65.8% of the sessions were reported on iOS, 34.0% Android and 0.2% web."
   ]
  },
  {
   "cell_type": "markdown",
   "id": "06c145b2",
   "metadata": {},
   "source": [
    "### Distance from Home (mi)"
   ]
  },
  {
   "cell_type": "code",
   "execution_count": 37,
   "id": "cfa69891",
   "metadata": {},
   "outputs": [
    {
     "name": "stdout",
     "output_type": "stream",
     "text": [
      "There are 1009 missing values\n"
     ]
    }
   ],
   "source": [
    "print(\"There are {} missing values\".format(df_clean.distance.isna().sum()))"
   ]
  },
  {
   "cell_type": "code",
   "execution_count": 38,
   "id": "8525727a",
   "metadata": {},
   "outputs": [],
   "source": [
    "df_clean.distance.fillna(df_clean.distance.mean(), inplace=True)"
   ]
  },
  {
   "cell_type": "code",
   "execution_count": 39,
   "id": "128b4127",
   "metadata": {},
   "outputs": [
    {
     "data": {
      "text/plain": [
       "count    3339.000000\n",
       "mean       18.652378\n",
       "std         9.539583\n",
       "min         0.856911\n",
       "25%        17.688772\n",
       "50%        18.652378\n",
       "75%        24.519201\n",
       "max        43.059292\n",
       "Name: distance, dtype: float64"
      ]
     },
     "execution_count": 39,
     "metadata": {},
     "output_type": "execute_result"
    }
   ],
   "source": [
    "df_clean.distance.describe()"
   ]
  },
  {
   "cell_type": "raw",
   "id": "dedf18b0",
   "metadata": {},
   "source": [
    "The mean distance from home was 18.65 miles."
   ]
  },
  {
   "cell_type": "code",
   "execution_count": 40,
   "id": "63fa35d4",
   "metadata": {},
   "outputs": [
    {
     "data": {
      "image/png": "[encoded data removed]",
      "text/plain": [
       "<Figure size 640x480 with 1 Axes>"
      ]
     },
     "metadata": {},
     "output_type": "display_data"
    }
   ],
   "source": [
    "sns.histplot(df_clean.distance, binwidth=5).set(title=\"Distance (mi)\");"
   ]
  },
  {
   "cell_type": "code",
   "execution_count": 41,
   "id": "d7184454",
   "metadata": {},
   "outputs": [
    {
     "data": {
      "text/html": [
       "<div>\n",
       "<style scoped>\n",
       "    .dataframe tbody tr th:only-of-type {\n",
       "        vertical-align: middle;\n",
       "    }\n",
       "\n",
       "    .dataframe tbody tr th {\n",
       "        vertical-align: top;\n",
       "    }\n",
       "\n",
       "    .dataframe thead th {\n",
       "        text-align: right;\n",
       "    }\n",
       "</style>\n",
       "<table border=\"1\" class=\"dataframe\">\n",
       "  <thead>\n",
       "    <tr style=\"text-align: right;\">\n",
       "      <th></th>\n",
       "      <th>sessionId</th>\n",
       "      <th>kwhTotal</th>\n",
       "      <th>dollars</th>\n",
       "      <th>created</th>\n",
       "      <th>ended</th>\n",
       "      <th>startTime</th>\n",
       "      <th>endTime</th>\n",
       "      <th>chargeTimeHrs</th>\n",
       "      <th>weekday</th>\n",
       "      <th>platform</th>\n",
       "      <th>...</th>\n",
       "      <th>Tues</th>\n",
       "      <th>Wed</th>\n",
       "      <th>Thurs</th>\n",
       "      <th>Fri</th>\n",
       "      <th>Sat</th>\n",
       "      <th>Sun</th>\n",
       "      <th>reportedZip</th>\n",
       "      <th>chargeTimeMins</th>\n",
       "      <th>free</th>\n",
       "      <th>cost_per_kwh</th>\n",
       "    </tr>\n",
       "  </thead>\n",
       "  <tbody>\n",
       "    <tr>\n",
       "      <th>862</th>\n",
       "      <td>9531439</td>\n",
       "      <td>1.79</td>\n",
       "      <td>0.0</td>\n",
       "      <td>0015-01-15 16:02:00</td>\n",
       "      <td>0015-01-15 16:40:07</td>\n",
       "      <td>16</td>\n",
       "      <td>16</td>\n",
       "      <td>0.635278</td>\n",
       "      <td>Thu</td>\n",
       "      <td>ios</td>\n",
       "      <td>...</td>\n",
       "      <td>0</td>\n",
       "      <td>0</td>\n",
       "      <td>1</td>\n",
       "      <td>0</td>\n",
       "      <td>0</td>\n",
       "      <td>0</td>\n",
       "      <td>1</td>\n",
       "      <td>38.116667</td>\n",
       "      <td>True</td>\n",
       "      <td>0.000000</td>\n",
       "    </tr>\n",
       "    <tr>\n",
       "      <th>863</th>\n",
       "      <td>4756166</td>\n",
       "      <td>2.38</td>\n",
       "      <td>0.0</td>\n",
       "      <td>0015-05-07 20:02:59</td>\n",
       "      <td>0015-05-07 22:43:06</td>\n",
       "      <td>20</td>\n",
       "      <td>22</td>\n",
       "      <td>2.668611</td>\n",
       "      <td>Thu</td>\n",
       "      <td>ios</td>\n",
       "      <td>...</td>\n",
       "      <td>0</td>\n",
       "      <td>0</td>\n",
       "      <td>1</td>\n",
       "      <td>0</td>\n",
       "      <td>0</td>\n",
       "      <td>0</td>\n",
       "      <td>1</td>\n",
       "      <td>160.116667</td>\n",
       "      <td>True</td>\n",
       "      <td>0.000000</td>\n",
       "    </tr>\n",
       "    <tr>\n",
       "      <th>864</th>\n",
       "      <td>2290411</td>\n",
       "      <td>1.52</td>\n",
       "      <td>0.0</td>\n",
       "      <td>0015-05-08 12:26:51</td>\n",
       "      <td>0015-05-08 12:58:07</td>\n",
       "      <td>12</td>\n",
       "      <td>12</td>\n",
       "      <td>0.521111</td>\n",
       "      <td>Fri</td>\n",
       "      <td>ios</td>\n",
       "      <td>...</td>\n",
       "      <td>0</td>\n",
       "      <td>0</td>\n",
       "      <td>0</td>\n",
       "      <td>1</td>\n",
       "      <td>0</td>\n",
       "      <td>0</td>\n",
       "      <td>1</td>\n",
       "      <td>31.266667</td>\n",
       "      <td>True</td>\n",
       "      <td>0.000000</td>\n",
       "    </tr>\n",
       "    <tr>\n",
       "      <th>865</th>\n",
       "      <td>1957117</td>\n",
       "      <td>6.53</td>\n",
       "      <td>0.5</td>\n",
       "      <td>0015-05-11 11:41:36</td>\n",
       "      <td>0015-05-11 15:49:06</td>\n",
       "      <td>11</td>\n",
       "      <td>15</td>\n",
       "      <td>4.125000</td>\n",
       "      <td>Mon</td>\n",
       "      <td>ios</td>\n",
       "      <td>...</td>\n",
       "      <td>0</td>\n",
       "      <td>0</td>\n",
       "      <td>0</td>\n",
       "      <td>0</td>\n",
       "      <td>0</td>\n",
       "      <td>0</td>\n",
       "      <td>1</td>\n",
       "      <td>247.500000</td>\n",
       "      <td>False</td>\n",
       "      <td>0.076570</td>\n",
       "    </tr>\n",
       "    <tr>\n",
       "      <th>866</th>\n",
       "      <td>8845048</td>\n",
       "      <td>3.64</td>\n",
       "      <td>0.0</td>\n",
       "      <td>0015-05-12 11:56:15</td>\n",
       "      <td>0015-05-12 15:45:07</td>\n",
       "      <td>11</td>\n",
       "      <td>15</td>\n",
       "      <td>3.814444</td>\n",
       "      <td>Tue</td>\n",
       "      <td>ios</td>\n",
       "      <td>...</td>\n",
       "      <td>1</td>\n",
       "      <td>0</td>\n",
       "      <td>0</td>\n",
       "      <td>0</td>\n",
       "      <td>0</td>\n",
       "      <td>0</td>\n",
       "      <td>1</td>\n",
       "      <td>228.866667</td>\n",
       "      <td>True</td>\n",
       "      <td>0.000000</td>\n",
       "    </tr>\n",
       "    <tr>\n",
       "      <th>...</th>\n",
       "      <td>...</td>\n",
       "      <td>...</td>\n",
       "      <td>...</td>\n",
       "      <td>...</td>\n",
       "      <td>...</td>\n",
       "      <td>...</td>\n",
       "      <td>...</td>\n",
       "      <td>...</td>\n",
       "      <td>...</td>\n",
       "      <td>...</td>\n",
       "      <td>...</td>\n",
       "      <td>...</td>\n",
       "      <td>...</td>\n",
       "      <td>...</td>\n",
       "      <td>...</td>\n",
       "      <td>...</td>\n",
       "      <td>...</td>\n",
       "      <td>...</td>\n",
       "      <td>...</td>\n",
       "      <td>...</td>\n",
       "      <td>...</td>\n",
       "    </tr>\n",
       "    <tr>\n",
       "      <th>3382</th>\n",
       "      <td>8981271</td>\n",
       "      <td>5.58</td>\n",
       "      <td>0.0</td>\n",
       "      <td>0015-09-30 16:39:31</td>\n",
       "      <td>0015-09-30 20:05:09</td>\n",
       "      <td>16</td>\n",
       "      <td>20</td>\n",
       "      <td>3.427222</td>\n",
       "      <td>Wed</td>\n",
       "      <td>ios</td>\n",
       "      <td>...</td>\n",
       "      <td>0</td>\n",
       "      <td>1</td>\n",
       "      <td>0</td>\n",
       "      <td>0</td>\n",
       "      <td>0</td>\n",
       "      <td>0</td>\n",
       "      <td>1</td>\n",
       "      <td>205.633333</td>\n",
       "      <td>True</td>\n",
       "      <td>0.000000</td>\n",
       "    </tr>\n",
       "    <tr>\n",
       "      <th>3383</th>\n",
       "      <td>1781196</td>\n",
       "      <td>6.94</td>\n",
       "      <td>0.5</td>\n",
       "      <td>0015-10-02 11:27:08</td>\n",
       "      <td>0015-10-02 15:49:06</td>\n",
       "      <td>11</td>\n",
       "      <td>15</td>\n",
       "      <td>4.366111</td>\n",
       "      <td>Fri</td>\n",
       "      <td>ios</td>\n",
       "      <td>...</td>\n",
       "      <td>0</td>\n",
       "      <td>0</td>\n",
       "      <td>0</td>\n",
       "      <td>1</td>\n",
       "      <td>0</td>\n",
       "      <td>0</td>\n",
       "      <td>1</td>\n",
       "      <td>261.966667</td>\n",
       "      <td>False</td>\n",
       "      <td>0.072046</td>\n",
       "    </tr>\n",
       "    <tr>\n",
       "      <th>3392</th>\n",
       "      <td>5858374</td>\n",
       "      <td>6.07</td>\n",
       "      <td>0.0</td>\n",
       "      <td>0015-09-30 16:54:22</td>\n",
       "      <td>0015-09-30 20:24:06</td>\n",
       "      <td>16</td>\n",
       "      <td>20</td>\n",
       "      <td>3.495556</td>\n",
       "      <td>Wed</td>\n",
       "      <td>android</td>\n",
       "      <td>...</td>\n",
       "      <td>0</td>\n",
       "      <td>1</td>\n",
       "      <td>0</td>\n",
       "      <td>0</td>\n",
       "      <td>0</td>\n",
       "      <td>0</td>\n",
       "      <td>1</td>\n",
       "      <td>209.733333</td>\n",
       "      <td>True</td>\n",
       "      <td>0.000000</td>\n",
       "    </tr>\n",
       "    <tr>\n",
       "      <th>3393</th>\n",
       "      <td>2586645</td>\n",
       "      <td>5.74</td>\n",
       "      <td>0.0</td>\n",
       "      <td>0015-09-24 11:43:02</td>\n",
       "      <td>0015-09-24 13:55:12</td>\n",
       "      <td>11</td>\n",
       "      <td>13</td>\n",
       "      <td>2.202778</td>\n",
       "      <td>Thu</td>\n",
       "      <td>ios</td>\n",
       "      <td>...</td>\n",
       "      <td>0</td>\n",
       "      <td>0</td>\n",
       "      <td>1</td>\n",
       "      <td>0</td>\n",
       "      <td>0</td>\n",
       "      <td>0</td>\n",
       "      <td>1</td>\n",
       "      <td>132.166667</td>\n",
       "      <td>True</td>\n",
       "      <td>0.000000</td>\n",
       "    </tr>\n",
       "    <tr>\n",
       "      <th>3394</th>\n",
       "      <td>7860608</td>\n",
       "      <td>6.95</td>\n",
       "      <td>0.0</td>\n",
       "      <td>0015-10-01 16:43:05</td>\n",
       "      <td>0015-10-01 19:42:06</td>\n",
       "      <td>16</td>\n",
       "      <td>19</td>\n",
       "      <td>2.983611</td>\n",
       "      <td>Thu</td>\n",
       "      <td>ios</td>\n",
       "      <td>...</td>\n",
       "      <td>0</td>\n",
       "      <td>0</td>\n",
       "      <td>1</td>\n",
       "      <td>0</td>\n",
       "      <td>0</td>\n",
       "      <td>0</td>\n",
       "      <td>1</td>\n",
       "      <td>179.016667</td>\n",
       "      <td>True</td>\n",
       "      <td>0.000000</td>\n",
       "    </tr>\n",
       "  </tbody>\n",
       "</table>\n",
       "<p>695 rows × 27 columns</p>\n",
       "</div>"
      ],
      "text/plain": [
       "      sessionId  kwhTotal  dollars              created                ended  \\\n",
       "862     9531439      1.79      0.0  0015-01-15 16:02:00  0015-01-15 16:40:07   \n",
       "863     4756166      2.38      0.0  0015-05-07 20:02:59  0015-05-07 22:43:06   \n",
       "864     2290411      1.52      0.0  0015-05-08 12:26:51  0015-05-08 12:58:07   \n",
       "865     1957117      6.53      0.5  0015-05-11 11:41:36  0015-05-11 15:49:06   \n",
       "866     8845048      3.64      0.0  0015-05-12 11:56:15  0015-05-12 15:45:07   \n",
       "...         ...       ...      ...                  ...                  ...   \n",
       "3382    8981271      5.58      0.0  0015-09-30 16:39:31  0015-09-30 20:05:09   \n",
       "3383    1781196      6.94      0.5  0015-10-02 11:27:08  0015-10-02 15:49:06   \n",
       "3392    5858374      6.07      0.0  0015-09-30 16:54:22  0015-09-30 20:24:06   \n",
       "3393    2586645      5.74      0.0  0015-09-24 11:43:02  0015-09-24 13:55:12   \n",
       "3394    7860608      6.95      0.0  0015-10-01 16:43:05  0015-10-01 19:42:06   \n",
       "\n",
       "      startTime  endTime  chargeTimeHrs weekday platform  ...  Tues  Wed  \\\n",
       "862          16       16       0.635278     Thu      ios  ...     0    0   \n",
       "863          20       22       2.668611     Thu      ios  ...     0    0   \n",
       "864          12       12       0.521111     Fri      ios  ...     0    0   \n",
       "865          11       15       4.125000     Mon      ios  ...     0    0   \n",
       "866          11       15       3.814444     Tue      ios  ...     1    0   \n",
       "...         ...      ...            ...     ...      ...  ...   ...  ...   \n",
       "3382         16       20       3.427222     Wed      ios  ...     0    1   \n",
       "3383         11       15       4.366111     Fri      ios  ...     0    0   \n",
       "3392         16       20       3.495556     Wed  android  ...     0    1   \n",
       "3393         11       13       2.202778     Thu      ios  ...     0    0   \n",
       "3394         16       19       2.983611     Thu      ios  ...     0    0   \n",
       "\n",
       "      Thurs  Fri  Sat  Sun  reportedZip  chargeTimeMins   free  cost_per_kwh  \n",
       "862       1    0    0    0            1       38.116667   True      0.000000  \n",
       "863       1    0    0    0            1      160.116667   True      0.000000  \n",
       "864       0    1    0    0            1       31.266667   True      0.000000  \n",
       "865       0    0    0    0            1      247.500000  False      0.076570  \n",
       "866       0    0    0    0            1      228.866667   True      0.000000  \n",
       "...     ...  ...  ...  ...          ...             ...    ...           ...  \n",
       "3382      0    0    0    0            1      205.633333   True      0.000000  \n",
       "3383      0    1    0    0            1      261.966667  False      0.072046  \n",
       "3392      0    0    0    0            1      209.733333   True      0.000000  \n",
       "3393      1    0    0    0            1      132.166667   True      0.000000  \n",
       "3394      1    0    0    0            1      179.016667   True      0.000000  \n",
       "\n",
       "[695 rows x 27 columns]"
      ]
     },
     "execution_count": 41,
     "metadata": {},
     "output_type": "execute_result"
    }
   ],
   "source": [
    "df_clean.query(\"distance < 6\")"
   ]
  },
  {
   "cell_type": "raw",
   "id": "8ebc521f",
   "metadata": {},
   "source": [
    "The distribution of the distance variable is not normal.\n",
    "There are large number of sessions with distance less than 6 miles"
   ]
  },
  {
   "cell_type": "markdown",
   "id": "be222ee7",
   "metadata": {},
   "source": [
    "### Comparing Subgroups"
   ]
  },
  {
   "cell_type": "code",
   "execution_count": 42,
   "id": "0d32c76f",
   "metadata": {},
   "outputs": [
    {
     "name": "stdout",
     "output_type": "stream",
     "text": [
      "['startTime', 'endTime', 'weekday', 'platform', 'managerVehicle', 'facilityType', 'reportedZip']\n"
     ]
    }
   ],
   "source": [
    "print(categorical)"
   ]
  },
  {
   "cell_type": "code",
   "execution_count": 43,
   "id": "75d3bde2",
   "metadata": {},
   "outputs": [
    {
     "name": "stdout",
     "output_type": "stream",
     "text": [
      "['kwhTotal', 'dollars', 'chargeTimeHrs', 'distance']\n"
     ]
    }
   ],
   "source": [
    "print(numerical)"
   ]
  },
  {
   "cell_type": "markdown",
   "id": "ef2d0976",
   "metadata": {},
   "source": [
    "### By Facility Type"
   ]
  },
  {
   "cell_type": "code",
   "execution_count": 44,
   "id": "f96ebd3e",
   "metadata": {},
   "outputs": [
    {
     "data": {
      "text/html": [
       "<div>\n",
       "<style scoped>\n",
       "    .dataframe tbody tr th:only-of-type {\n",
       "        vertical-align: middle;\n",
       "    }\n",
       "\n",
       "    .dataframe tbody tr th {\n",
       "        vertical-align: top;\n",
       "    }\n",
       "\n",
       "    .dataframe thead th {\n",
       "        text-align: right;\n",
       "    }\n",
       "</style>\n",
       "<table border=\"1\" class=\"dataframe\">\n",
       "  <thead>\n",
       "    <tr style=\"text-align: right;\">\n",
       "      <th></th>\n",
       "      <th>chargeTimeHrs</th>\n",
       "      <th>distance</th>\n",
       "      <th>dollars</th>\n",
       "      <th>kwhTotal</th>\n",
       "    </tr>\n",
       "    <tr>\n",
       "      <th>facilityType</th>\n",
       "      <th></th>\n",
       "      <th></th>\n",
       "      <th></th>\n",
       "      <th></th>\n",
       "    </tr>\n",
       "  </thead>\n",
       "  <tbody>\n",
       "    <tr>\n",
       "      <th>1</th>\n",
       "      <td>2.467116</td>\n",
       "      <td>20.397841</td>\n",
       "      <td>0.035637</td>\n",
       "      <td>5.791613</td>\n",
       "    </tr>\n",
       "    <tr>\n",
       "      <th>2</th>\n",
       "      <td>2.895228</td>\n",
       "      <td>22.020484</td>\n",
       "      <td>0.126607</td>\n",
       "      <td>5.729241</td>\n",
       "    </tr>\n",
       "    <tr>\n",
       "      <th>3</th>\n",
       "      <td>2.933363</td>\n",
       "      <td>16.509481</td>\n",
       "      <td>0.127879</td>\n",
       "      <td>5.942943</td>\n",
       "    </tr>\n",
       "    <tr>\n",
       "      <th>4</th>\n",
       "      <td>3.676939</td>\n",
       "      <td>18.576601</td>\n",
       "      <td>0.377264</td>\n",
       "      <td>7.314528</td>\n",
       "    </tr>\n",
       "  </tbody>\n",
       "</table>\n",
       "</div>"
      ],
      "text/plain": [
       "              chargeTimeHrs   distance   dollars  kwhTotal\n",
       "facilityType                                              \n",
       "1                  2.467116  20.397841  0.035637  5.791613\n",
       "2                  2.895228  22.020484  0.126607  5.729241\n",
       "3                  2.933363  16.509481  0.127879  5.942943\n",
       "4                  3.676939  18.576601  0.377264  7.314528"
      ]
     },
     "execution_count": 44,
     "metadata": {},
     "output_type": "execute_result"
    }
   ],
   "source": [
    "pd.pivot_table(df_clean, values=numerical, index=['facilityType'], aggfunc=\"mean\")"
   ]
  },
  {
   "cell_type": "raw",
   "id": "bffa08f1",
   "metadata": {},
   "source": [
    "Facility type 1 (manufacturing) had a shorter than average charge times and facility type 4 (other) had longer than average charge times."
   ]
  },
  {
   "cell_type": "code",
   "execution_count": 45,
   "id": "eef6c662",
   "metadata": {},
   "outputs": [
    {
     "data": {
      "image/png": "[encoded data removed]",
      "text/plain": [
       "<Figure size 640x480 with 1 Axes>"
      ]
     },
     "metadata": {},
     "output_type": "display_data"
    }
   ],
   "source": [
    "sns.boxplot(x='facilityType', y='chargeTimeHrs', data=df_clean).set(title=\"Charge Time by Facility Type\");"
   ]
  },
  {
   "cell_type": "markdown",
   "id": "1ecd34fe",
   "metadata": {},
   "source": [
    "### Anova test"
   ]
  },
  {
   "cell_type": "code",
   "execution_count": 46,
   "id": "cfbf2fc5",
   "metadata": {},
   "outputs": [
    {
     "data": {
      "text/html": [
       "<div>\n",
       "<style scoped>\n",
       "    .dataframe tbody tr th:only-of-type {\n",
       "        vertical-align: middle;\n",
       "    }\n",
       "\n",
       "    .dataframe tbody tr th {\n",
       "        vertical-align: top;\n",
       "    }\n",
       "\n",
       "    .dataframe thead th {\n",
       "        text-align: right;\n",
       "    }\n",
       "</style>\n",
       "<table border=\"1\" class=\"dataframe\">\n",
       "  <thead>\n",
       "    <tr style=\"text-align: right;\">\n",
       "      <th></th>\n",
       "      <th>sum_sq</th>\n",
       "      <th>df</th>\n",
       "      <th>F</th>\n",
       "      <th>PR(&gt;F)</th>\n",
       "    </tr>\n",
       "  </thead>\n",
       "  <tbody>\n",
       "    <tr>\n",
       "      <th>C(facilityType)</th>\n",
       "      <td>172.312970</td>\n",
       "      <td>3.0</td>\n",
       "      <td>43.512696</td>\n",
       "      <td>1.411120e-27</td>\n",
       "    </tr>\n",
       "    <tr>\n",
       "      <th>Residual</th>\n",
       "      <td>4402.268831</td>\n",
       "      <td>3335.0</td>\n",
       "      <td>NaN</td>\n",
       "      <td>NaN</td>\n",
       "    </tr>\n",
       "  </tbody>\n",
       "</table>\n",
       "</div>"
      ],
      "text/plain": [
       "                      sum_sq      df          F        PR(>F)\n",
       "C(facilityType)   172.312970     3.0  43.512696  1.411120e-27\n",
       "Residual         4402.268831  3335.0        NaN           NaN"
      ]
     },
     "execution_count": 46,
     "metadata": {},
     "output_type": "execute_result"
    }
   ],
   "source": [
    "model = ols('chargeTimeHrs ~ C(facilityType)', data=df_clean).fit()\n",
    "aov_table = sm.stats.anova_lm(model, typ=2)\n",
    "aov_table"
   ]
  },
  {
   "cell_type": "raw",
   "id": "d2de4b52",
   "metadata": {},
   "source": [
    "The one Anova test has a pvalue of < 0.01. So we can conclude that there is a significant differences in the charge times for the facility types"
   ]
  },
  {
   "cell_type": "markdown",
   "id": "c9af8e8f",
   "metadata": {},
   "source": [
    "### Normality"
   ]
  },
  {
   "cell_type": "code",
   "execution_count": 47,
   "id": "eaddaba7",
   "metadata": {},
   "outputs": [
    {
     "data": {
      "text/plain": [
       "ShapiroResult(statistic=0.9531428813934326, pvalue=1.879558690587693e-31)"
      ]
     },
     "execution_count": 47,
     "metadata": {},
     "output_type": "execute_result"
    }
   ],
   "source": [
    "stats.shapiro(model.resid)"
   ]
  },
  {
   "cell_type": "raw",
   "id": "712d0069",
   "metadata": {},
   "source": [
    "The pvalue is < 0.05 which indicates that the residuals are normally distributed."
   ]
  },
  {
   "cell_type": "markdown",
   "id": "6497d97d",
   "metadata": {},
   "source": [
    "### Homogeneity of variances"
   ]
  },
  {
   "cell_type": "code",
   "execution_count": 48,
   "id": "0de4c1b5",
   "metadata": {},
   "outputs": [
    {
     "data": {
      "text/plain": [
       "LeveneResult(statistic=14.388235526114839, pvalue=2.5916683829907404e-09)"
      ]
     },
     "execution_count": 48,
     "metadata": {},
     "output_type": "execute_result"
    }
   ],
   "source": [
    "stats.levene(df_clean['chargeTimeHrs'][df_clean['facilityType'] == 1],\n",
    "             df_clean['chargeTimeHrs'][df_clean['facilityType'] == 2],\n",
    "             df_clean['chargeTimeHrs'][df_clean['facilityType'] == 3],\n",
    "             df_clean['chargeTimeHrs'][df_clean['facilityType'] == 4]) "
   ]
  },
  {
   "cell_type": "raw",
   "id": "c97ba98f",
   "metadata": {},
   "source": [
    "The Levene's test of homogeneity of variances is not significant which indicates that the groups have non-statistically significant difference in their varability"
   ]
  },
  {
   "cell_type": "markdown",
   "id": "215f95a8",
   "metadata": {},
   "source": [
    "### Free vs Paid Charging"
   ]
  },
  {
   "cell_type": "code",
   "execution_count": 49,
   "id": "294c7de3",
   "metadata": {},
   "outputs": [
    {
     "data": {
      "text/html": [
       "<div>\n",
       "<style scoped>\n",
       "    .dataframe tbody tr th:only-of-type {\n",
       "        vertical-align: middle;\n",
       "    }\n",
       "\n",
       "    .dataframe tbody tr th {\n",
       "        vertical-align: top;\n",
       "    }\n",
       "\n",
       "    .dataframe thead th {\n",
       "        text-align: right;\n",
       "    }\n",
       "</style>\n",
       "<table border=\"1\" class=\"dataframe\">\n",
       "  <thead>\n",
       "    <tr style=\"text-align: right;\">\n",
       "      <th></th>\n",
       "      <th>chargeTimeHrs</th>\n",
       "      <th>distance</th>\n",
       "      <th>dollars</th>\n",
       "      <th>kwhTotal</th>\n",
       "    </tr>\n",
       "    <tr>\n",
       "      <th>free</th>\n",
       "      <th></th>\n",
       "      <th></th>\n",
       "      <th></th>\n",
       "      <th></th>\n",
       "    </tr>\n",
       "  </thead>\n",
       "  <tbody>\n",
       "    <tr>\n",
       "      <th>False</th>\n",
       "      <td>4.903563</td>\n",
       "      <td>19.330510</td>\n",
       "      <td>1.055756</td>\n",
       "      <td>6.682944</td>\n",
       "    </tr>\n",
       "    <tr>\n",
       "      <th>True</th>\n",
       "      <td>2.605641</td>\n",
       "      <td>18.566066</td>\n",
       "      <td>0.000000</td>\n",
       "      <td>5.806928</td>\n",
       "    </tr>\n",
       "  </tbody>\n",
       "</table>\n",
       "</div>"
      ],
      "text/plain": [
       "       chargeTimeHrs   distance   dollars  kwhTotal\n",
       "free                                               \n",
       "False       4.903563  19.330510  1.055756  6.682944\n",
       "True        2.605641  18.566066  0.000000  5.806928"
      ]
     },
     "execution_count": 49,
     "metadata": {},
     "output_type": "execute_result"
    }
   ],
   "source": [
    "pd.pivot_table(df_clean, values=numerical, index=['free'], aggfunc=\"mean\")"
   ]
  },
  {
   "cell_type": "raw",
   "id": "3e8e856d",
   "metadata": {},
   "source": [
    "Charge times for paid sessions were longer than charge times for free sessions"
   ]
  },
  {
   "cell_type": "markdown",
   "id": "9d8ab2c3",
   "metadata": {},
   "source": [
    "### Correlating numerical variables"
   ]
  },
  {
   "cell_type": "code",
   "execution_count": 50,
   "id": "8a543bc9",
   "metadata": {},
   "outputs": [
    {
     "data": {
      "image/png": "[encoded data removed]",
      "text/plain": [
       "<Figure size 640x480 with 2 Axes>"
      ]
     },
     "metadata": {},
     "output_type": "display_data"
    }
   ],
   "source": [
    "corr_matrix = df_clean[numerical].corr()\n",
    "sns.heatmap(corr_matrix, annot=True, cmap=\"coolwarm\").set(title=\"Correlation of Numerical Variables\");"
   ]
  },
  {
   "cell_type": "raw",
   "id": "3e273942",
   "metadata": {},
   "source": [
    "Since 88.8% percent of the sessions were free, it's unsurprising that the correlation between dollars paid and kwhTotal is close to zero (0.07).\n",
    "That there is a strong positive correlation (0.64) between dollars and chargeTimeHrs even with the free sessions is surprising.\n",
    "One would expect a higher correlation between kwhTotal and charge time (0.40)"
   ]
  },
  {
   "cell_type": "markdown",
   "id": "0e850555",
   "metadata": {},
   "source": [
    "### Paid sessions"
   ]
  },
  {
   "cell_type": "code",
   "execution_count": 51,
   "id": "b16d01a4",
   "metadata": {},
   "outputs": [
    {
     "data": {
      "text/plain": [
       "[Text(0.5, 1.0, 'Correlation of Numerical Variables for Paid Sessions')]"
      ]
     },
     "execution_count": 51,
     "metadata": {},
     "output_type": "execute_result"
    },
    {
     "data": {
      "image/png": "[encoded data removed]",
      "text/plain": [
       "<Figure size 640x480 with 2 Axes>"
      ]
     },
     "metadata": {},
     "output_type": "display_data"
    }
   ],
   "source": [
    "corr_matrix_paid = df_clean.query(\"free == False\")[numerical].corr()\n",
    "sns.heatmap(corr_matrix_paid, annot=True, cmap=\"coolwarm\").set(title=\"Correlation of Numerical Variables for Paid Sessions\")"
   ]
  },
  {
   "cell_type": "code",
   "execution_count": 52,
   "id": "eed159ae",
   "metadata": {},
   "outputs": [
    {
     "data": {
      "image/png": "[encoded data removed]",
      "text/plain": [
       "<Figure size 640x480 with 1 Axes>"
      ]
     },
     "metadata": {},
     "output_type": "display_data"
    }
   ],
   "source": [
    "df_clean.query(\"free == False\").plot.scatter(x='kwhTotal', y='dollars', title='Total Energy vs Cost');"
   ]
  },
  {
   "cell_type": "code",
   "execution_count": 53,
   "id": "3fb8341d",
   "metadata": {},
   "outputs": [
    {
     "data": {
      "image/png": "[encoded data removed]",
      "text/plain": [
       "<Figure size 640x480 with 1 Axes>"
      ]
     },
     "metadata": {},
     "output_type": "display_data"
    }
   ],
   "source": [
    "sns.histplot(df_clean.query(\"free == False\" ).dollars).set(title=\"Cost for Paid Sessions\");"
   ]
  },
  {
   "cell_type": "code",
   "execution_count": 54,
   "id": "b86618fa",
   "metadata": {},
   "outputs": [
    {
     "name": "stdout",
     "output_type": "stream",
     "text": [
      "195\n",
      "377\n",
      "0.5172413793103449\n"
     ]
    }
   ],
   "source": [
    "df_50_cents = df_clean.query(\"dollars == 0.5\")\n",
    "num_50_cents = len(df_50_cents.dollars)\n",
    "num_paid = len(df_clean.query(\"free == False\").dollars)\n",
    "\n",
    "print(num_50_cents)\n",
    "print(num_paid)\n",
    "print(num_50_cents/num_paid)"
   ]
  },
  {
   "cell_type": "code",
   "execution_count": 55,
   "id": "159c4149",
   "metadata": {},
   "outputs": [
    {
     "data": {
      "image/png": "[encoded data removed]",
      "text/plain": [
       "<Figure size 640x480 with 1 Axes>"
      ]
     },
     "metadata": {},
     "output_type": "display_data"
    }
   ],
   "source": [
    "sns.histplot(df_50_cents.kwhTotal, binwidth=1);"
   ]
  },
  {
   "cell_type": "raw",
   "id": "e3d7f29d",
   "metadata": {},
   "source": [
    "There were 195 sessions that cost exactly $0.50. That is 51% of the paid sessions.\n",
    "The total energy for these sessions were varied. This indicates that the cost of charging was the same regardless of amount of energy used."
   ]
  },
  {
   "cell_type": "markdown",
   "id": "9977f06c",
   "metadata": {},
   "source": [
    "### Correlations for Paid Sessions"
   ]
  },
  {
   "cell_type": "raw",
   "id": "bcc10015",
   "metadata": {},
   "source": [
    "The correlation between dollars and charge time went up to 0.96.\n",
    "There was no correlation between chargeTimeHrs and kwhTotal.\n",
    "Excluding the free sessions, there is still no correlation between dollars and kwhTotal. This was probably due to about half the sessions having a fixed price ($0.50) regardless of amount charged."
   ]
  },
  {
   "cell_type": "markdown",
   "id": "41140bf0",
   "metadata": {},
   "source": [
    "### Conclusion"
   ]
  },
  {
   "cell_type": "raw",
   "id": "7a3f7dae",
   "metadata": {},
   "source": [
    "The dataset was very clean and did not require much additional work. 55 rows with 0 kwh charged were dropped. 1 row with a charge time over 24 hours was dropped. In the distance column, there were 1065 missing values. They were filled in with the mean distance."
   ]
  },
  {
   "cell_type": "raw",
   "id": "1fefeeb7",
   "metadata": {},
   "source": [
    "Observations of individual variables:"
   ]
  },
  {
   "cell_type": "raw",
   "id": "ef06468d",
   "metadata": {},
   "source": [
    "The most common amount of energy used charged 5-6 kilowatt hours.\n",
    "89% of the charge sessions were free and the average cost of paid sessions was $1.06.\n",
    "The distribution of the charge times is roughly normal with a mean of 2.86 hours and median of 2.82.\n",
    "The mean distance from home was 18.65 miles. The distibution was not normal. There was a secondary peak (695 sessions) at distances less than 6 miles.\n",
    "The largest number of sessions occured on a Thursday. Charging seems to be mostly on weekday but there were sessions during the weekend.\n"
   ]
  },
  {
   "cell_type": "raw",
   "id": "4c9664a8",
   "metadata": {},
   "source": [
    "Facility type 1, manufacturing, had a shorter than average charge time (2.5 hours) and facility type 4, \"other\", had longer than average charge time (3.7 hours). This was confirmed to be statistically significant using an Anova test."
   ]
  },
  {
   "cell_type": "raw",
   "id": "564bf833",
   "metadata": {},
   "source": [
    "There was a strong positive correlation between charge time and amount paid. There was no correlaton between total energy used (kwh) and amount paid which one might expect. This lack of correlation was due to approximately half of the paid sessions having a fixed price regardless of amount charged."
   ]
  },
  {
   "cell_type": "code",
   "execution_count": null,
   "id": "6fe86987",
   "metadata": {},
   "outputs": [],
   "source": []
  }
 ],
 "metadata": {
  "kernelspec": {
   "display_name": "Python 3 (ipykernel)",
   "language": "python",
   "name": "python3"
  },
  "language_info": {
   "codemirror_mode": {
    "name": "ipython",
    "version": 3
   },
   "file_extension": ".py",
   "mimetype": "text/x-python",
   "name": "python",
   "nbconvert_exporter": "python",
   "pygments_lexer": "ipython3",
   "version": "3.11.3"
  }
 },
 "nbformat": 4,
 "nbformat_minor": 5
}
